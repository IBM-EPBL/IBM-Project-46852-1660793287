{
  "nbformat": 4,
  "nbformat_minor": 0,
  "metadata": {
    "colab": {
      "provenance": []
    },
    "kernelspec": {
      "name": "python3",
      "display_name": "Python 3"
    },
    "language_info": {
      "name": "python"
    }
  },
  "cells": [
    {
      "cell_type": "markdown",
      "source": [
        "#Train the model"
      ],
      "metadata": {
        "id": "ut_K-LRU8vRt"
      }
    },
    {
      "cell_type": "code",
      "execution_count": 27,
      "metadata": {
        "id": "yQbnRjpo7NPB"
      },
      "outputs": [],
      "source": [
        "import numpy as np\n",
        "import tensorflow as tf\n",
        "from tensorflow.keras.preprocessing.image import ImageDataGenerator\n",
        "import os\n",
        "import keras\n",
        "import numpy as np\n",
        "import tensorflow as tf\n",
        "from keras.models import Model\n",
        "import matplotlib.pyplot as plt\n",
        "from keras.optimizers import Adam\n",
        "from keras.applications import MobileNet\n",
        "from sklearn.metrics import confusion_matrix\n",
        "from keras.layers.core import Dense, Activation\n",
        "from keras.metrics import categorical_crossentropy\n",
        "from sklearn.model_selection import train_test_split\n",
        "from keras.preprocessing.image import ImageDataGenerator\n",
        "from keras.applications.mobilenet import preprocess_input\n",
        "from tensorflow.keras.preprocessing import image_dataset_from_directory"
      ]
    },
    {
      "cell_type": "code",
      "source": [
        "from google.colab import drive\n",
        "drive.mount('/content/drive')\n"
      ],
      "metadata": {
        "colab": {
          "base_uri": "https://localhost:8080/"
        },
        "id": "SDPW-c-37VlR",
        "outputId": "551a1e29-a6e6-43d5-bf18-5583cf621c66"
      },
      "execution_count": 28,
      "outputs": [
        {
          "output_type": "stream",
          "name": "stdout",
          "text": [
            "Drive already mounted at /content/drive; to attempt to forcibly remount, call drive.mount(\"/content/drive\", force_remount=True).\n"
          ]
        }
      ]
    },
    {
      "cell_type": "code",
      "source": [
        "from keras.preprocessing.image import ImageDataGenerator\n",
        "train_datagen=ImageDataGenerator(rescale = 1./255, shear_range=0.2, zoom_range=0.2,horizontal_flip=True,vertical_flip=False)\n",
        "test_datagen = ImageDataGenerator(rescale=1./255)"
      ],
      "metadata": {
        "id": "U1iIugWj7VZY"
      },
      "execution_count": 29,
      "outputs": []
    },
    {
      "cell_type": "code",
      "source": [
        "x_train = train_datagen.flow_from_directory(\"/content/drive/MyDrive/img/train\", target_size=(64,64),batch_size=8,\n",
        "                                            class_mode='categorical', color_mode =\"grayscale\")"
      ],
      "metadata": {
        "colab": {
          "base_uri": "https://localhost:8080/"
        },
        "id": "H8WYJ65e7VW1",
        "outputId": "09468e69-ba4e-470d-b380-45a829c1c3ce"
      },
      "execution_count": 30,
      "outputs": [
        {
          "output_type": "stream",
          "name": "stdout",
          "text": [
            "Found 594 images belonging to 6 classes.\n"
          ]
        }
      ]
    },
    {
      "cell_type": "code",
      "source": [
        "x_test = test_datagen.flow_from_directory(\"/content/drive/MyDrive/img/test\", target_size=(64,64),batch_size=8,\n",
        "                                         class_mode='categorical', color_mode =\"grayscale\")"
      ],
      "metadata": {
        "colab": {
          "base_uri": "https://localhost:8080/"
        },
        "id": "reDFD-Cz7VUb",
        "outputId": "c8d1fd5f-0885-4c7b-9189-8766e7c8f15a"
      },
      "execution_count": 31,
      "outputs": [
        {
          "output_type": "stream",
          "name": "stdout",
          "text": [
            "Found 30 images belonging to 6 classes.\n"
          ]
        }
      ]
    },
    {
      "cell_type": "code",
      "source": [
        "len(x_train)"
      ],
      "metadata": {
        "colab": {
          "base_uri": "https://localhost:8080/"
        },
        "id": "SFwUFJC_7VSA",
        "outputId": "008db2f5-8cb5-4c20-bb26-b3808dac4e59"
      },
      "execution_count": 32,
      "outputs": [
        {
          "output_type": "execute_result",
          "data": {
            "text/plain": [
              "75"
            ]
          },
          "metadata": {},
          "execution_count": 32
        }
      ]
    },
    {
      "cell_type": "code",
      "source": [
        "len(x_test)"
      ],
      "metadata": {
        "colab": {
          "base_uri": "https://localhost:8080/"
        },
        "id": "c6f3YRI_7U3J",
        "outputId": "20b47c76-1122-4fce-eeea-ab1bf230fd28"
      },
      "execution_count": 33,
      "outputs": [
        {
          "output_type": "execute_result",
          "data": {
            "text/plain": [
              "4"
            ]
          },
          "metadata": {},
          "execution_count": 33
        }
      ]
    },
    {
      "cell_type": "code",
      "source": [
        "x_train.class_indices"
      ],
      "metadata": {
        "colab": {
          "base_uri": "https://localhost:8080/"
        },
        "id": "ow8AGo4Q7fUc",
        "outputId": "fd6ebeab-dbcb-49ee-bcfb-f685dde8b01c"
      },
      "execution_count": 34,
      "outputs": [
        {
          "output_type": "execute_result",
          "data": {
            "text/plain": [
              "{'0': 0, '1': 1, '2': 2, '3': 3, '4': 4, '5': 5}"
            ]
          },
          "metadata": {},
          "execution_count": 34
        }
      ]
    },
    {
      "cell_type": "code",
      "source": [
        "from keras.models import Sequential\n",
        "from keras.layers import Dense\n",
        "from keras.layers import Convolution2D\n",
        "from tensorflow.keras.layers import Conv2D, MaxPooling2D\n",
        "from keras.layers import Dropout\n",
        "from keras.layers import Flatten"
      ],
      "metadata": {
        "id": "rNDhcM9M7fSU"
      },
      "execution_count": 35,
      "outputs": []
    },
    {
      "cell_type": "code",
      "source": [
        "#Creating the model\n",
        "model=Sequential()\n",
        "#Adding the layers\n",
        "model.add(Convolution2D(32,(3,3), input_shape=(64,64,1), activation = 'relu'))\n",
        "model.add(MaxPooling2D(pool_size=(2,2)))\n",
        "model.add(Flatten())\n",
        "\n",
        "#adding hidden layers\n",
        "model.add(Dense(400, activation='relu'))\n",
        "model.add(Dense(200, activation='relu'))\n",
        "model.add(Dense(100, activation='relu'))\n",
        "\n",
        "#Adding the output layer\n",
        "model.add(Dense(9, activation='softmax'))\n"
      ],
      "metadata": {
        "id": "HfOWPMMG7fQK"
      },
      "execution_count": 36,
      "outputs": []
    },
    {
      "cell_type": "code",
      "source": [
        "model.compile(loss='categorical_crossentropy', optimizer='adam', metrics=['accuracy'])"
      ],
      "metadata": {
        "id": "Nqa1GNMV7fNy"
      },
      "execution_count": 37,
      "outputs": []
    },
    {
      "cell_type": "code",
      "source": [
        "model.add(Dense(units=512 , activation='relu'))\n",
        "model.add(Dense(units=6, activation='softmax')) \n",
        "model.summary()"
      ],
      "metadata": {
        "colab": {
          "base_uri": "https://localhost:8080/"
        },
        "id": "scSf4zen8Fj-",
        "outputId": "553f001e-f2bd-492b-a835-5ccfb03f27f7"
      },
      "execution_count": 38,
      "outputs": [
        {
          "output_type": "stream",
          "name": "stdout",
          "text": [
            "Model: \"sequential_2\"\n",
            "_________________________________________________________________\n",
            " Layer (type)                Output Shape              Param #   \n",
            "=================================================================\n",
            " conv2d_2 (Conv2D)           (None, 62, 62, 32)        320       \n",
            "                                                                 \n",
            " max_pooling2d_2 (MaxPooling  (None, 31, 31, 32)       0         \n",
            " 2D)                                                             \n",
            "                                                                 \n",
            " flatten_2 (Flatten)         (None, 30752)             0         \n",
            "                                                                 \n",
            " dense_10 (Dense)            (None, 400)               12301200  \n",
            "                                                                 \n",
            " dense_11 (Dense)            (None, 200)               80200     \n",
            "                                                                 \n",
            " dense_12 (Dense)            (None, 100)               20100     \n",
            "                                                                 \n",
            " dense_13 (Dense)            (None, 9)                 909       \n",
            "                                                                 \n",
            " dense_14 (Dense)            (None, 512)               5120      \n",
            "                                                                 \n",
            " dense_15 (Dense)            (None, 6)                 3078      \n",
            "                                                                 \n",
            "=================================================================\n",
            "Total params: 12,410,927\n",
            "Trainable params: 12,410,927\n",
            "Non-trainable params: 0\n",
            "_________________________________________________________________\n"
          ]
        }
      ]
    },
    {
      "cell_type": "code",
      "source": [
        "model.fit_generator(x_train,\n",
        "                    steps_per_epoch = len(x_train) , \n",
        "                    epochs = 25, \n",
        "                    validation_data = x_test,\n",
        "                    validation_steps = len(x_test))"
      ],
      "metadata": {
        "colab": {
          "base_uri": "https://localhost:8080/"
        },
        "id": "8Rn1AQ3z9d9r",
        "outputId": "1343681f-1655-4d51-f797-2ebddf406c1d"
      },
      "execution_count": 39,
      "outputs": [
        {
          "output_type": "stream",
          "name": "stdout",
          "text": [
            "Epoch 1/25\n"
          ]
        },
        {
          "output_type": "stream",
          "name": "stderr",
          "text": [
            "/usr/local/lib/python3.7/dist-packages/ipykernel_launcher.py:5: UserWarning: `Model.fit_generator` is deprecated and will be removed in a future version. Please use `Model.fit`, which supports generators.\n",
            "  \"\"\"\n"
          ]
        },
        {
          "output_type": "stream",
          "name": "stdout",
          "text": [
            "75/75 [==============================] - 10s 119ms/step - loss: 1.8024 - accuracy: 0.1347 - val_loss: 1.7936 - val_accuracy: 0.1667\n",
            "Epoch 2/25\n",
            "75/75 [==============================] - 9s 120ms/step - loss: 1.8003 - accuracy: 0.1313 - val_loss: 1.7936 - val_accuracy: 0.1667\n",
            "Epoch 3/25\n",
            "75/75 [==============================] - 8s 110ms/step - loss: 1.7982 - accuracy: 0.1515 - val_loss: 1.7928 - val_accuracy: 0.1667\n",
            "Epoch 4/25\n",
            "75/75 [==============================] - 8s 110ms/step - loss: 1.7971 - accuracy: 0.1667 - val_loss: 1.7924 - val_accuracy: 0.1667\n",
            "Epoch 5/25\n",
            "75/75 [==============================] - 8s 110ms/step - loss: 1.7985 - accuracy: 0.1566 - val_loss: 1.7926 - val_accuracy: 0.1667\n",
            "Epoch 6/25\n",
            "75/75 [==============================] - 8s 110ms/step - loss: 1.7966 - accuracy: 0.1431 - val_loss: 1.7925 - val_accuracy: 0.1667\n",
            "Epoch 7/25\n",
            "75/75 [==============================] - 8s 110ms/step - loss: 1.7979 - accuracy: 0.1582 - val_loss: 1.7919 - val_accuracy: 0.1667\n",
            "Epoch 8/25\n",
            "75/75 [==============================] - 8s 110ms/step - loss: 1.7983 - accuracy: 0.1532 - val_loss: 1.7926 - val_accuracy: 0.1667\n",
            "Epoch 9/25\n",
            "75/75 [==============================] - 8s 110ms/step - loss: 1.7974 - accuracy: 0.1347 - val_loss: 1.7919 - val_accuracy: 0.1667\n",
            "Epoch 10/25\n",
            "75/75 [==============================] - 12s 154ms/step - loss: 1.7956 - accuracy: 0.1515 - val_loss: 1.7922 - val_accuracy: 0.1667\n",
            "Epoch 11/25\n",
            "75/75 [==============================] - 9s 122ms/step - loss: 1.7964 - accuracy: 0.1364 - val_loss: 1.7924 - val_accuracy: 0.1667\n",
            "Epoch 12/25\n",
            "75/75 [==============================] - 10s 139ms/step - loss: 1.7958 - accuracy: 0.1667 - val_loss: 1.7924 - val_accuracy: 0.1667\n",
            "Epoch 13/25\n",
            "75/75 [==============================] - 8s 111ms/step - loss: 1.7945 - accuracy: 0.1498 - val_loss: 1.7924 - val_accuracy: 0.1667\n",
            "Epoch 14/25\n",
            "75/75 [==============================] - 9s 113ms/step - loss: 1.7956 - accuracy: 0.1448 - val_loss: 1.7920 - val_accuracy: 0.1667\n",
            "Epoch 15/25\n",
            "75/75 [==============================] - 8s 111ms/step - loss: 1.7949 - accuracy: 0.1684 - val_loss: 1.7919 - val_accuracy: 0.1667\n",
            "Epoch 16/25\n",
            "75/75 [==============================] - 8s 110ms/step - loss: 1.7961 - accuracy: 0.1448 - val_loss: 1.7919 - val_accuracy: 0.1667\n",
            "Epoch 17/25\n",
            "75/75 [==============================] - 8s 113ms/step - loss: 1.7946 - accuracy: 0.1768 - val_loss: 1.7920 - val_accuracy: 0.1667\n",
            "Epoch 18/25\n",
            "75/75 [==============================] - 8s 111ms/step - loss: 1.7952 - accuracy: 0.1582 - val_loss: 1.7918 - val_accuracy: 0.1667\n",
            "Epoch 19/25\n",
            "75/75 [==============================] - 8s 112ms/step - loss: 1.7945 - accuracy: 0.1582 - val_loss: 1.7919 - val_accuracy: 0.1667\n",
            "Epoch 20/25\n",
            "75/75 [==============================] - 9s 114ms/step - loss: 1.7950 - accuracy: 0.1380 - val_loss: 1.7921 - val_accuracy: 0.1667\n",
            "Epoch 21/25\n",
            "75/75 [==============================] - 8s 111ms/step - loss: 1.7951 - accuracy: 0.1515 - val_loss: 1.7919 - val_accuracy: 0.1667\n",
            "Epoch 22/25\n",
            "75/75 [==============================] - 8s 111ms/step - loss: 1.7942 - accuracy: 0.1616 - val_loss: 1.7919 - val_accuracy: 0.1667\n",
            "Epoch 23/25\n",
            "75/75 [==============================] - 9s 117ms/step - loss: 1.7942 - accuracy: 0.1549 - val_loss: 1.7919 - val_accuracy: 0.1667\n",
            "Epoch 24/25\n",
            "75/75 [==============================] - 8s 110ms/step - loss: 1.7937 - accuracy: 0.1566 - val_loss: 1.7919 - val_accuracy: 0.1667\n",
            "Epoch 25/25\n",
            "75/75 [==============================] - 8s 110ms/step - loss: 1.7937 - accuracy: 0.1364 - val_loss: 1.7918 - val_accuracy: 0.1667\n"
          ]
        },
        {
          "output_type": "execute_result",
          "data": {
            "text/plain": [
              "<keras.callbacks.History at 0x7fd9ccc0fb10>"
            ]
          },
          "metadata": {},
          "execution_count": 39
        }
      ]
    },
    {
      "cell_type": "code",
      "source": [
        "model.save('gas.h5')"
      ],
      "metadata": {
        "id": "vp1lrpgdBeZ1"
      },
      "execution_count": 44,
      "outputs": []
    },
    {
      "cell_type": "markdown",
      "source": [
        "#test the model"
      ],
      "metadata": {
        "id": "1E9Z2Q-5AEGZ"
      }
    },
    {
      "cell_type": "code",
      "source": [
        "inputs = keras.Input(shape=(64,))\n",
        "outputs = keras.layers.Dense(1)(inputs)\n",
        "model = keras.Model(inputs, outputs)\n",
        "model.compile(optimizer=\"adam\", loss=\"mean_squared_error\")"
      ],
      "metadata": {
        "id": "496mF0l9Ar8g"
      },
      "execution_count": 40,
      "outputs": []
    },
    {
      "cell_type": "code",
      "source": [
        "from tensorflow.keras.models import load_model"
      ],
      "metadata": {
        "id": "F0js5QZHA5Yn"
      },
      "execution_count": 45,
      "outputs": []
    },
    {
      "cell_type": "code",
      "source": [
        "model = load_model(\"gas.h5\")"
      ],
      "metadata": {
        "id": "lAZco1wHAzef"
      },
      "execution_count": 46,
      "outputs": []
    },
    {
      "cell_type": "code",
      "source": [
        "\n",
        "path = r'/content/drive/MyDrive/img/test/2/0.jpg' "
      ],
      "metadata": {
        "id": "XLo-Zds3B9_E"
      },
      "execution_count": 47,
      "outputs": []
    },
    {
      "cell_type": "code",
      "source": [
        "test_datagen=ImageDataGenerator(rescale=1./255)"
      ],
      "metadata": {
        "id": "GYPhgJWqB2h1"
      },
      "execution_count": 48,
      "outputs": []
    },
    {
      "cell_type": "code",
      "source": [
        "x_test=test_datagen.flow_from_directory('/content/drive/MyDrive/img/test',target_size=(64,64),class_mode='categorical',batch_size=100)"
      ],
      "metadata": {
        "colab": {
          "base_uri": "https://localhost:8080/"
        },
        "id": "440fXlrAB2ZU",
        "outputId": "9755b2c3-f3df-415b-9d44-f3dabf35b015"
      },
      "execution_count": 52,
      "outputs": [
        {
          "output_type": "stream",
          "name": "stdout",
          "text": [
            "Found 30 images belonging to 6 classes.\n"
          ]
        }
      ]
    },
    {
      "cell_type": "code",
      "source": [
        "train_datagen=ImageDataGenerator(rescale=1./255)\n",
        "x_train=train_datagen.flow_from_directory('/content/drive/MyDrive/img/train',target_size=(64,64),class_mode='categorical',batch_size=100)"
      ],
      "metadata": {
        "colab": {
          "base_uri": "https://localhost:8080/"
        },
        "id": "J7dobDfgCHLL",
        "outputId": "2c6981cd-7634-48ac-c70b-11feab955d21"
      },
      "execution_count": 51,
      "outputs": [
        {
          "output_type": "stream",
          "name": "stdout",
          "text": [
            "Found 594 images belonging to 6 classes.\n"
          ]
        }
      ]
    },
    {
      "cell_type": "code",
      "source": [
        "%pylab inline\n",
        "import matplotlib.pyplot as plt\n",
        "import matplotlib.image as mpimg\n",
        "imgs = mpimg.imread(path)\n",
        "imgplot = plt.imshow(imgs)\n",
        "plt.show()"
      ],
      "metadata": {
        "colab": {
          "base_uri": "https://localhost:8080/",
          "height": 286
        },
        "id": "xJo2V07NCg1D",
        "outputId": "3170a0ed-2ace-4ca7-9cb0-6eb7a8df0ce1"
      },
      "execution_count": 53,
      "outputs": [
        {
          "output_type": "stream",
          "name": "stdout",
          "text": [
            "Populating the interactive namespace from numpy and matplotlib\n"
          ]
        },
        {
          "output_type": "display_data",
          "data": {
            "text/plain": [
              "<Figure size 432x288 with 1 Axes>"
            ],
            "image/png": "[encoded data removed]"
          },
          "metadata": {
            "needs_background": "light"
          }
        }
      ]
    },
    {
      "cell_type": "code",
      "source": [
        "from keras.preprocessing.image import ImageDataGenerator\n",
        "from tensorflow.keras.utils import load_img\n",
        "\n",
        "from keras_preprocessing.image import load_img"
      ],
      "metadata": {
        "id": "Lv8vnM7RDDmZ"
      },
      "execution_count": 61,
      "outputs": []
    },
    {
      "cell_type": "code",
      "source": [
        "from keras.preprocessing import image"
      ],
      "metadata": {
        "id": "Tn2oqhQZC-E5"
      },
      "execution_count": 56,
      "outputs": []
    },
    {
      "cell_type": "code",
      "source": [
        "model = load_model('/content/gas.h5')"
      ],
      "metadata": {
        "id": "9U0LycaoEv9s"
      },
      "execution_count": 65,
      "outputs": []
    },
    {
      "cell_type": "code",
      "source": [
        "img = image.load_img('/content/drive/MyDrive/img/test/4/3.jpg',target_size = (100,100))\n",
        "img"
      ],
      "metadata": {
        "colab": {
          "base_uri": "https://localhost:8080/",
          "height": 117
        },
        "id": "PbrkSCa0E3Wc",
        "outputId": "1f1303f2-524a-4bb6-d932-007155f0b930"
      },
      "execution_count": 66,
      "outputs": [
        {
          "output_type": "execute_result",
          "data": {
            "text/plain": [
              "<PIL.Image.Image image mode=RGB size=100x100 at 0x7FD9BEBCE310>"
            ],
            "image/png": "[encoded data removed]"
          },
          "metadata": {},
          "execution_count": 66
        }
      ]
    },
    {
      "cell_type": "code",
      "source": [
        "from tensorflow.keras.models import load_model\n",
        "from tensorflow.keras.preprocessing import image\n",
        "import numpy as np\n",
        "import cv2"
      ],
      "metadata": {
        "id": "YpQtqDrxElGF"
      },
      "execution_count": 64,
      "outputs": []
    },
    {
      "cell_type": "code",
      "source": [
        "img = image.load_img(path,\n",
        "                     color_mode='grayscale',\n",
        "                     target_size= (64,64))\n",
        "x = image.img_to_array(img)#image to array\n",
        "x.shape"
      ],
      "metadata": {
        "colab": {
          "base_uri": "https://localhost:8080/"
        },
        "id": "D1hPwCny8FSe",
        "outputId": "595f9392-b197-4f82-facc-ecff436c5ab7"
      },
      "execution_count": 67,
      "outputs": [
        {
          "output_type": "execute_result",
          "data": {
            "text/plain": [
              "(64, 64, 1)"
            ]
          },
          "metadata": {},
          "execution_count": 67
        }
      ]
    },
    {
      "cell_type": "code",
      "source": [
        "type(x)"
      ],
      "metadata": {
        "colab": {
          "base_uri": "https://localhost:8080/"
        },
        "id": "pCFzg1lTFbIY",
        "outputId": "b8966768-03ea-4a1c-d104-d6b1ed0333ba"
      },
      "execution_count": 68,
      "outputs": [
        {
          "output_type": "execute_result",
          "data": {
            "text/plain": [
              "numpy.ndarray"
            ]
          },
          "metadata": {},
          "execution_count": 68
        }
      ]
    },
    {
      "cell_type": "code",
      "source": [
        "x = np.expand_dims(x,axis = 0)"
      ],
      "metadata": {
        "id": "4TcraZHiFbFq"
      },
      "execution_count": 69,
      "outputs": []
    },
    {
      "cell_type": "code",
      "source": [
        "x.shape"
      ],
      "metadata": {
        "colab": {
          "base_uri": "https://localhost:8080/"
        },
        "id": "BxGmVkg4FlrE",
        "outputId": "2ea85e30-28d5-445b-eb64-13e1b0d68a1c"
      },
      "execution_count": 70,
      "outputs": [
        {
          "output_type": "execute_result",
          "data": {
            "text/plain": [
              "(1, 64, 64, 1)"
            ]
          },
          "metadata": {},
          "execution_count": 70
        }
      ]
    },
    {
      "cell_type": "code",
      "source": [
        "from skimage.transform import resize\n",
        "def detect(frame):\n",
        "    img=image.img_to_array(frame)\n",
        "    img = resize(img,(64,64,1))\n",
        "    img = np.expand_dims(img,axis=0)\n",
        "    pred=np.argmax(model.predict(img))\n",
        "    op=['0','1','2','3','4','5']\n",
        "    print(\"THE PREDICTED GESTURE IS \",op[pred])"
      ],
      "metadata": {
        "id": "_hEDTv7mGHcA"
      },
      "execution_count": 87,
      "outputs": []
    },
    {
      "cell_type": "code",
      "source": [
        "from skimage.transform import resize\n",
        "def detect(frame):\n",
        "    img=image.img_to_array(frame)\n",
        "    img = resize(img,(64,64,1))\n",
        "    img = np.expand_dims(img,axis=0)\n",
        "    pred=np.argmax(model.predict(img))\n",
        "    op=['A','B','C','D','E','F','G','H','I']\n",
        "    print(\"THE PREDICTED LETTER IS \",op[pred])"
      ],
      "metadata": {
        "id": "ef-wJHJyIF9Z"
      },
      "execution_count": null,
      "outputs": []
    },
    {
      "cell_type": "code",
      "source": [
        "model = Sequential()\n",
        "\n",
        "\n",
        "# Feature extractor Fully connected layers\n",
        "model.add(Dense(128, activation='relu'))\n",
        "model.add(Dense(256, activation='relu'))\n",
        "model.add(Dense(128, activation='relu'))\n",
        "# Final layer \n",
        "model.add(Dense(6, activation='sigmoid'))\n",
        "\n",
        "\n",
        "\n"
      ],
      "metadata": {
        "id": "gMu-2krcG2A2"
      },
      "execution_count": 81,
      "outputs": []
    },
    {
      "cell_type": "code",
      "source": [
        "img=image.load_img(\"/content/drive/MyDrive/img/test/5/0.jpg\")\n",
        "detect(img)"
      ],
      "metadata": {
        "colab": {
          "base_uri": "https://localhost:8080/"
        },
        "id": "Ki77lE7SGg6-",
        "outputId": "9cfb6fe9-5410-4418-d326-3a27546b2e49"
      },
      "execution_count": 83,
      "outputs": [
        {
          "output_type": "stream",
          "name": "stdout",
          "text": [
            "1/1 [==============================] - 0s 35ms/step\n",
            "THE PREDICTED GESTURE IS  5\n"
          ]
        }
      ]
    },
    {
      "cell_type": "code",
      "source": [
        "pred = model.predict(x)\n",
        "pred"
      ],
      "metadata": {
        "colab": {
          "base_uri": "https://localhost:8080/"
        },
        "id": "uI5IvDL8Flli",
        "outputId": "82e0c58e-0255-4998-908a-76be6489a972"
      },
      "execution_count": 84,
      "outputs": [
        {
          "output_type": "stream",
          "name": "stdout",
          "text": [
            "1/1 [==============================] - 0s 34ms/step\n"
          ]
        },
        {
          "output_type": "execute_result",
          "data": {
            "text/plain": [
              "array([[[[1.5304840e-07, 9.2541071e-05, 9.9179196e-01, 9.9522537e-01,\n",
              "          4.6238687e-02, 1.0000000e+00],\n",
              "         [1.5304840e-07, 9.2541071e-05, 9.9179196e-01, 9.9522537e-01,\n",
              "          4.6238687e-02, 1.0000000e+00],\n",
              "         [1.5304840e-07, 9.2541071e-05, 9.9179196e-01, 9.9522537e-01,\n",
              "          4.6238687e-02, 1.0000000e+00],\n",
              "         ...,\n",
              "         [1.5304840e-07, 9.2541071e-05, 9.9179196e-01, 9.9522537e-01,\n",
              "          4.6238687e-02, 1.0000000e+00],\n",
              "         [1.5304840e-07, 9.2541071e-05, 9.9179196e-01, 9.9522537e-01,\n",
              "          4.6238687e-02, 1.0000000e+00],\n",
              "         [1.5304840e-07, 9.2541071e-05, 9.9179196e-01, 9.9522537e-01,\n",
              "          4.6238687e-02, 1.0000000e+00]],\n",
              "\n",
              "        [[1.5304840e-07, 9.2541071e-05, 9.9179196e-01, 9.9522537e-01,\n",
              "          4.6238687e-02, 1.0000000e+00],\n",
              "         [1.5304840e-07, 9.2541071e-05, 9.9179196e-01, 9.9522537e-01,\n",
              "          4.6238687e-02, 1.0000000e+00],\n",
              "         [1.5304840e-07, 9.2541071e-05, 9.9179196e-01, 9.9522537e-01,\n",
              "          4.6238687e-02, 1.0000000e+00],\n",
              "         ...,\n",
              "         [1.5304840e-07, 9.2541071e-05, 9.9179196e-01, 9.9522537e-01,\n",
              "          4.6238687e-02, 1.0000000e+00],\n",
              "         [1.5304840e-07, 9.2541071e-05, 9.9179196e-01, 9.9522537e-01,\n",
              "          4.6238687e-02, 1.0000000e+00],\n",
              "         [1.5304840e-07, 9.2541071e-05, 9.9179196e-01, 9.9522537e-01,\n",
              "          4.6238687e-02, 1.0000000e+00]],\n",
              "\n",
              "        [[1.5304840e-07, 9.2541071e-05, 9.9179196e-01, 9.9522537e-01,\n",
              "          4.6238687e-02, 1.0000000e+00],\n",
              "         [1.5304840e-07, 9.2541071e-05, 9.9179196e-01, 9.9522537e-01,\n",
              "          4.6238687e-02, 1.0000000e+00],\n",
              "         [1.5304840e-07, 9.2541071e-05, 9.9179196e-01, 9.9522537e-01,\n",
              "          4.6238687e-02, 1.0000000e+00],\n",
              "         ...,\n",
              "         [1.5304840e-07, 9.2541071e-05, 9.9179196e-01, 9.9522537e-01,\n",
              "          4.6238687e-02, 1.0000000e+00],\n",
              "         [1.5304840e-07, 9.2541071e-05, 9.9179196e-01, 9.9522537e-01,\n",
              "          4.6238687e-02, 1.0000000e+00],\n",
              "         [1.5304840e-07, 9.2541071e-05, 9.9179196e-01, 9.9522537e-01,\n",
              "          4.6238687e-02, 1.0000000e+00]],\n",
              "\n",
              "        ...,\n",
              "\n",
              "        [[1.5304840e-07, 9.2541071e-05, 9.9179196e-01, 9.9522537e-01,\n",
              "          4.6238687e-02, 1.0000000e+00],\n",
              "         [1.5304840e-07, 9.2541071e-05, 9.9179196e-01, 9.9522537e-01,\n",
              "          4.6238687e-02, 1.0000000e+00],\n",
              "         [1.5304840e-07, 9.2541071e-05, 9.9179196e-01, 9.9522537e-01,\n",
              "          4.6238687e-02, 1.0000000e+00],\n",
              "         ...,\n",
              "         [1.5304840e-07, 9.2541071e-05, 9.9179196e-01, 9.9522537e-01,\n",
              "          4.6238687e-02, 1.0000000e+00],\n",
              "         [1.5304840e-07, 9.2541071e-05, 9.9179196e-01, 9.9522537e-01,\n",
              "          4.6238687e-02, 1.0000000e+00],\n",
              "         [1.5304840e-07, 9.2541071e-05, 9.9179196e-01, 9.9522537e-01,\n",
              "          4.6238687e-02, 1.0000000e+00]],\n",
              "\n",
              "        [[1.5304840e-07, 9.2541071e-05, 9.9179196e-01, 9.9522537e-01,\n",
              "          4.6238687e-02, 1.0000000e+00],\n",
              "         [1.5304840e-07, 9.2541071e-05, 9.9179196e-01, 9.9522537e-01,\n",
              "          4.6238687e-02, 1.0000000e+00],\n",
              "         [1.5304840e-07, 9.2541071e-05, 9.9179196e-01, 9.9522537e-01,\n",
              "          4.6238687e-02, 1.0000000e+00],\n",
              "         ...,\n",
              "         [1.5304840e-07, 9.2541071e-05, 9.9179196e-01, 9.9522537e-01,\n",
              "          4.6238687e-02, 1.0000000e+00],\n",
              "         [1.5304840e-07, 9.2541071e-05, 9.9179196e-01, 9.9522537e-01,\n",
              "          4.6238687e-02, 1.0000000e+00],\n",
              "         [1.5304840e-07, 9.2541071e-05, 9.9179196e-01, 9.9522537e-01,\n",
              "          4.6238687e-02, 1.0000000e+00]],\n",
              "\n",
              "        [[1.5304840e-07, 9.2541071e-05, 9.9179196e-01, 9.9522537e-01,\n",
              "          4.6238687e-02, 1.0000000e+00],\n",
              "         [1.5304840e-07, 9.2541071e-05, 9.9179196e-01, 9.9522537e-01,\n",
              "          4.6238687e-02, 1.0000000e+00],\n",
              "         [1.5304840e-07, 9.2541071e-05, 9.9179196e-01, 9.9522537e-01,\n",
              "          4.6238687e-02, 1.0000000e+00],\n",
              "         ...,\n",
              "         [1.5304840e-07, 9.2541071e-05, 9.9179196e-01, 9.9522537e-01,\n",
              "          4.6238687e-02, 1.0000000e+00],\n",
              "         [1.5304840e-07, 9.2541071e-05, 9.9179196e-01, 9.9522537e-01,\n",
              "          4.6238687e-02, 1.0000000e+00],\n",
              "         [1.5304840e-07, 9.2541071e-05, 9.9179196e-01, 9.9522537e-01,\n",
              "          4.6238687e-02, 1.0000000e+00]]]], dtype=float32)"
            ]
          },
          "metadata": {},
          "execution_count": 84
        }
      ]
    },
    {
      "cell_type": "code",
      "source": [
        "img=image.load_img(\"/content/drive/MyDrive/img/test/0/1.jpg\")\n",
        "detect(img)"
      ],
      "metadata": {
        "colab": {
          "base_uri": "https://localhost:8080/"
        },
        "id": "keYepP__HY_E",
        "outputId": "9d3ecaed-6419-45f9-92df-c6747b7a7b88"
      },
      "execution_count": 85,
      "outputs": [
        {
          "output_type": "stream",
          "name": "stdout",
          "text": [
            "1/1 [==============================] - 0s 30ms/step\n",
            "THE PREDICTED GESTURE IS  5\n"
          ]
        }
      ]
    },
    {
      "cell_type": "code",
      "source": [
        "img=image.load_img(\"/content/drive/MyDrive/img/test/3/0.jpg\")\n",
        "detect(img)"
      ],
      "metadata": {
        "colab": {
          "base_uri": "https://localhost:8080/"
        },
        "id": "FrEPnHx3Hs1L",
        "outputId": "2200e977-2cfa-438f-f6a1-aa837f3c568b"
      },
      "execution_count": 89,
      "outputs": [
        {
          "output_type": "stream",
          "name": "stdout",
          "text": [
            "1/1 [==============================] - 0s 30ms/step\n",
            "THE PREDICTED GESTURE IS  5\n"
          ]
        }
      ]
    },
    {
      "cell_type": "code",
      "source": [],
      "metadata": {
        "id": "fjHpxM7gHsqs"
      },
      "execution_count": null,
      "outputs": []
    }
  ]
}