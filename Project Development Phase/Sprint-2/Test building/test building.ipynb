{
  "nbformat": 4,
  "nbformat_minor": 0,
  "metadata": {
    "colab": {
      "provenance": []
    },
    "kernelspec": {
      "name": "python3",
      "display_name": "Python 3"
    },
    "language_info": {
      "name": "python"
    }
  },
  "cells": [
    {
      "cell_type": "markdown",
      "source": [
        "#Train the model"
      ],
      "metadata": {
        "id": "ut_K-LRU8vRt"
      }
    },
    {
      "cell_type": "code",
      "execution_count": 27,
      "metadata": {
        "id": "yQbnRjpo7NPB"
      },
      "outputs": [],
      "source": [
        "import numpy as np\n",
        "import tensorflow as tf\n",
        "from tensorflow.keras.preprocessing.image import ImageDataGenerator\n",
        "import os\n",
        "import keras\n",
        "import numpy as np\n",
        "import tensorflow as tf\n",
        "from keras.models import Model\n",
        "import matplotlib.pyplot as plt\n",
        "from keras.optimizers import Adam\n",
        "from keras.applications import MobileNet\n",
        "from sklearn.metrics import confusion_matrix\n",
        "from keras.layers.core import Dense, Activation\n",
        "from keras.metrics import categorical_crossentropy\n",
        "from sklearn.model_selection import train_test_split\n",
        "from keras.preprocessing.image import ImageDataGenerator\n",
        "from keras.applications.mobilenet import preprocess_input\n",
        "from tensorflow.keras.preprocessing import image_dataset_from_directory"
      ]
    },
    {
      "cell_type": "code",
      "source": [
        "from google.colab import drive\n",
        "drive.mount('/content/drive')\n"
      ],
      "metadata": {
        "colab": {
          "base_uri": "https://localhost:8080/"
        },
        "id": "SDPW-c-37VlR",
        "outputId": "551a1e29-a6e6-43d5-bf18-5583cf621c66"
      },
      "execution_count": 28,
      "outputs": [
        {
          "output_type": "stream",
          "name": "stdout",
          "text": [
            "Drive already mounted at /content/drive; to attempt to forcibly remount, call drive.mount(\"/content/drive\", force_remount=True).\n"
          ]
        }
      ]
    },
    {
      "cell_type": "code",
      "source": [
        "from keras.preprocessing.image import ImageDataGenerator\n",
        "train_datagen=ImageDataGenerator(rescale = 1./255, shear_range=0.2, zoom_range=0.2,horizontal_flip=True,vertical_flip=False)\n",
        "test_datagen = ImageDataGenerator(rescale=1./255)"
      ],
      "metadata": {
        "id": "U1iIugWj7VZY"
      },
      "execution_count": 29,
      "outputs": []
    },
    {
      "cell_type": "code",
      "source": [
        "x_train = train_datagen.flow_from_directory(\"/content/drive/MyDrive/img/train\", target_size=(64,64),batch_size=8,\n",
        "                                            class_mode='categorical', color_mode =\"grayscale\")"
      ],
      "metadata": {
        "colab": {
          "base_uri": "https://localhost:8080/"
        },
        "id": "H8WYJ65e7VW1",
        "outputId": "09468e69-ba4e-470d-b380-45a829c1c3ce"
      },
      "execution_count": 30,
      "outputs": [
        {
          "output_type": "stream",
          "name": "stdout",
          "text": [
            "Found 594 images belonging to 6 classes.\n"
          ]
        }
      ]
    },
    {
      "cell_type": "code",
      "source": [
        "x_test = test_datagen.flow_from_directory(\"/content/drive/MyDrive/img/test\", target_size=(64,64),batch_size=8,\n",
        "                                         class_mode='categorical', color_mode =\"grayscale\")"
      ],
      "metadata": {
        "colab": {
          "base_uri": "https://localhost:8080/"
        },
        "id": "reDFD-Cz7VUb",
        "outputId": "c8d1fd5f-0885-4c7b-9189-8766e7c8f15a"
      },
      "execution_count": 31,
      "outputs": [
        {
          "output_type": "stream",
          "name": "stdout",
          "text": [
            "Found 30 images belonging to 6 classes.\n"
          ]
        }
      ]
    },
    {
      "cell_type": "code",
      "source": [
        "len(x_train)"
      ],
      "metadata": {
        "colab": {
          "base_uri": "https://localhost:8080/"
        },
        "id": "SFwUFJC_7VSA",
        "outputId": "008db2f5-8cb5-4c20-bb26-b3808dac4e59"
      },
      "execution_count": 32,
      "outputs": [
        {
          "output_type": "execute_result",
          "data": {
            "text/plain": [
              "75"
            ]
          },
          "metadata": {},
          "execution_count": 32
        }
      ]
    },
    {
      "cell_type": "code",
      "source": [
        "len(x_test)"
      ],
      "metadata": {
        "colab": {
          "base_uri": "https://localhost:8080/"
        },
        "id": "c6f3YRI_7U3J",
        "outputId": "20b47c76-1122-4fce-eeea-ab1bf230fd28"
      },
      "execution_count": 33,
      "outputs": [
        {
          "output_type": "execute_result",
          "data": {
            "text/plain": [
              "4"
            ]
          },
          "metadata": {},
          "execution_count": 33
        }
      ]
    },
    {
      "cell_type": "code",
      "source": [
        "x_train.class_indices"
      ],
      "metadata": {
        "colab": {
          "base_uri": "https://localhost:8080/"
        },
        "id": "ow8AGo4Q7fUc",
        "outputId": "fd6ebeab-dbcb-49ee-bcfb-f685dde8b01c"
      },
      "execution_count": 34,
      "outputs": [
        {
          "output_type": "execute_result",
          "data": {
            "text/plain": [
              "{'0': 0, '1': 1, '2': 2, '3': 3, '4': 4, '5': 5}"
            ]
          },
          "metadata": {},
          "execution_count": 34
        }
      ]
    },
    {
      "cell_type": "code",
      "source": [
        "from keras.models import Sequential\n",
        "from keras.layers import Dense\n",
        "from keras.layers import Convolution2D\n",
        "from tensorflow.keras.layers import Conv2D, MaxPooling2D\n",
        "from keras.layers import Dropout\n",
        "from keras.layers import Flatten"
      ],
      "metadata": {
        "id": "rNDhcM9M7fSU"
      },
      "execution_count": 35,
      "outputs": []
    },
    {
      "cell_type": "code",
      "source": [
        "#Creating the model\n",
        "model=Sequential()\n",
        "#Adding the layers\n",
        "model.add(Convolution2D(32,(3,3), input_shape=(64,64,1), activation = 'relu'))\n",
        "model.add(MaxPooling2D(pool_size=(2,2)))\n",
        "model.add(Flatten())\n",
        "\n",
        "#adding hidden layers\n",
        "model.add(Dense(400, activation='relu'))\n",
        "model.add(Dense(200, activation='relu'))\n",
        "model.add(Dense(100, activation='relu'))\n",
        "\n",
        "#Adding the output layer\n",
        "model.add(Dense(9, activation='softmax'))\n"
      ],
      "metadata": {
        "id": "HfOWPMMG7fQK"
      },
      "execution_count": 36,
      "outputs": []
    },
    {
      "cell_type": "code",
      "source": [
        "model.compile(loss='categorical_crossentropy', optimizer='adam', metrics=['accuracy'])"
      ],
      "metadata": {
        "id": "Nqa1GNMV7fNy"
      },
      "execution_count": 37,
      "outputs": []
    },
    {
      "cell_type": "code",
      "source": [
        "model.add(Dense(units=512 , activation='relu'))\n",
        "model.add(Dense(units=6, activation='softmax')) \n",
        "model.summary()"
      ],
      "metadata": {
        "colab": {
          "base_uri": "https://localhost:8080/"
        },
        "id": "scSf4zen8Fj-",
        "outputId": "553f001e-f2bd-492b-a835-5ccfb03f27f7"
      },
      "execution_count": 38,
      "outputs": [
        {
          "output_type": "stream",
          "name": "stdout",
          "text": [
            "Model: \"sequential_2\"\n",
            "_________________________________________________________________\n",
            " Layer (type)                Output Shape              Param #   \n",
            "=================================================================\n",
            " conv2d_2 (Conv2D)           (None, 62, 62, 32)        320       \n",
            "                                                                 \n",
            " max_pooling2d_2 (MaxPooling  (None, 31, 31, 32)       0         \n",
            " 2D)                                                             \n",
            "                                                                 \n",
            " flatten_2 (Flatten)         (None, 30752)             0         \n",
            "                                                                 \n",
            " dense_10 (Dense)            (None, 400)               12301200  \n",
            "                                                                 \n",
            " dense_11 (Dense)            (None, 200)               80200     \n",
            "                                                                 \n",
            " dense_12 (Dense)            (None, 100)               20100     \n",
            "                                                                 \n",
            " dense_13 (Dense)            (None, 9)                 909       \n",
            "                                                                 \n",
            " dense_14 (Dense)            (None, 512)               5120      \n",
            "                                                                 \n",
            " dense_15 (Dense)            (None, 6)                 3078      \n",
            "                                                                 \n",
            "=================================================================\n",
            "Total params: 12,410,927\n",
            "Trainable params: 12,410,927\n",
            "Non-trainable params: 0\n",
            "_________________________________________________________________\n"
          ]
        }
      ]
    },
    {
      "cell_type": "code",
      "source": [
        "model.fit_generator(x_train,\n",
        "                    steps_per_epoch = len(x_train) , \n",
        "                    epochs = 25, \n",
        "                    validation_data = x_test,\n",
        "                    validation_steps = len(x_test))"
      ],
      "metadata": {
        "colab": {
          "base_uri": "https://localhost:8080/"
        },
        "id": "8Rn1AQ3z9d9r",
        "outputId": "1343681f-1655-4d51-f797-2ebddf406c1d"
      },
      "execution_count": 39,
      "outputs": [
        {
          "output_type": "stream",
          "name": "stdout",
          "text": [
            "Epoch 1/25\n"
          ]
        },
        {
          "output_type": "stream",
          "name": "stderr",
          "text": [
            "/usr/local/lib/python3.7/dist-packages/ipykernel_launcher.py:5: UserWarning: `Model.fit_generator` is deprecated and will be removed in a future version. Please use `Model.fit`, which supports generators.\n",
            "  \"\"\"\n"
          ]
        },
        {
          "output_type": "stream",
          "name": "stdout",
          "text": [
            "75/75 [==============================] - 10s 119ms/step - loss: 1.8024 - accuracy: 0.1347 - val_loss: 1.7936 - val_accuracy: 0.1667\n",
            "Epoch 2/25\n",
            "75/75 [==============================] - 9s 120ms/step - loss: 1.8003 - accuracy: 0.1313 - val_loss: 1.7936 - val_accuracy: 0.1667\n",
            "Epoch 3/25\n",
            "75/75 [==============================] - 8s 110ms/step - loss: 1.7982 - accuracy: 0.1515 - val_loss: 1.7928 - val_accuracy: 0.1667\n",
            "Epoch 4/25\n",
            "75/75 [==============================] - 8s 110ms/step - loss: 1.7971 - accuracy: 0.1667 - val_loss: 1.7924 - val_accuracy: 0.1667\n",
            "Epoch 5/25\n",
            "75/75 [==============================] - 8s 110ms/step - loss: 1.7985 - accuracy: 0.1566 - val_loss: 1.7926 - val_accuracy: 0.1667\n",
            "Epoch 6/25\n",
            "75/75 [==============================] - 8s 110ms/step - loss: 1.7966 - accuracy: 0.1431 - val_loss: 1.7925 - val_accuracy: 0.1667\n",
            "Epoch 7/25\n",
            "75/75 [==============================] - 8s 110ms/step - loss: 1.7979 - accuracy: 0.1582 - val_loss: 1.7919 - val_accuracy: 0.1667\n",
            "Epoch 8/25\n",
            "75/75 [==============================] - 8s 110ms/step - loss: 1.7983 - accuracy: 0.1532 - val_loss: 1.7926 - val_accuracy: 0.1667\n",
            "Epoch 9/25\n",
            "75/75 [==============================] - 8s 110ms/step - loss: 1.7974 - accuracy: 0.1347 - val_loss: 1.7919 - val_accuracy: 0.1667\n",
            "Epoch 10/25\n",
            "75/75 [==============================] - 12s 154ms/step - loss: 1.7956 - accuracy: 0.1515 - val_loss: 1.7922 - val_accuracy: 0.1667\n",
            "Epoch 11/25\n",
            "75/75 [==============================] - 9s 122ms/step - loss: 1.7964 - accuracy: 0.1364 - val_loss: 1.7924 - val_accuracy: 0.1667\n",
            "Epoch 12/25\n",
            "75/75 [==============================] - 10s 139ms/step - loss: 1.7958 - accuracy: 0.1667 - val_loss: 1.7924 - val_accuracy: 0.1667\n",
            "Epoch 13/25\n",
            "75/75 [==============================] - 8s 111ms/step - loss: 1.7945 - accuracy: 0.1498 - val_loss: 1.7924 - val_accuracy: 0.1667\n",
            "Epoch 14/25\n",
            "75/75 [==============================] - 9s 113ms/step - loss: 1.7956 - accuracy: 0.1448 - val_loss: 1.7920 - val_accuracy: 0.1667\n",
            "Epoch 15/25\n",
            "75/75 [==============================] - 8s 111ms/step - loss: 1.7949 - accuracy: 0.1684 - val_loss: 1.7919 - val_accuracy: 0.1667\n",
            "Epoch 16/25\n",
            "75/75 [==============================] - 8s 110ms/step - loss: 1.7961 - accuracy: 0.1448 - val_loss: 1.7919 - val_accuracy: 0.1667\n",
            "Epoch 17/25\n",
            "75/75 [==============================] - 8s 113ms/step - loss: 1.7946 - accuracy: 0.1768 - val_loss: 1.7920 - val_accuracy: 0.1667\n",
            "Epoch 18/25\n",
            "75/75 [==============================] - 8s 111ms/step - loss: 1.7952 - accuracy: 0.1582 - val_loss: 1.7918 - val_accuracy: 0.1667\n",
            "Epoch 19/25\n",
            "75/75 [==============================] - 8s 112ms/step - loss: 1.7945 - accuracy: 0.1582 - val_loss: 1.7919 - val_accuracy: 0.1667\n",
            "Epoch 20/25\n",
            "75/75 [==============================] - 9s 114ms/step - loss: 1.7950 - accuracy: 0.1380 - val_loss: 1.7921 - val_accuracy: 0.1667\n",
            "Epoch 21/25\n",
            "75/75 [==============================] - 8s 111ms/step - loss: 1.7951 - accuracy: 0.1515 - val_loss: 1.7919 - val_accuracy: 0.1667\n",
            "Epoch 22/25\n",
            "75/75 [==============================] - 8s 111ms/step - loss: 1.7942 - accuracy: 0.1616 - val_loss: 1.7919 - val_accuracy: 0.1667\n",
            "Epoch 23/25\n",
            "75/75 [==============================] - 9s 117ms/step - loss: 1.7942 - accuracy: 0.1549 - val_loss: 1.7919 - val_accuracy: 0.1667\n",
            "Epoch 24/25\n",
            "75/75 [==============================] - 8s 110ms/step - loss: 1.7937 - accuracy: 0.1566 - val_loss: 1.7919 - val_accuracy: 0.1667\n",
            "Epoch 25/25\n",
            "75/75 [==============================] - 8s 110ms/step - loss: 1.7937 - accuracy: 0.1364 - val_loss: 1.7918 - val_accuracy: 0.1667\n"
          ]
        },
        {
          "output_type": "execute_result",
          "data": {
            "text/plain": [
              "<keras.callbacks.History at 0x7fd9ccc0fb10>"
            ]
          },
          "metadata": {},
          "execution_count": 39
        }
      ]
    },
    {
      "cell_type": "code",
      "source": [],
      "metadata": {
        "id": "kDOcsd5y9_Lw"
      },
      "execution_count": null,
      "outputs": []
    },
    {
      "cell_type": "code",
      "source": [],
      "metadata": {
        "id": "D1hPwCny8FSe"
      },
      "execution_count": null,
      "outputs": []
    }
  ]
}