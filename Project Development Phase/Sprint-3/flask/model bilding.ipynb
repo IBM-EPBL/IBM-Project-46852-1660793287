{
  "nbformat": 4,
  "nbformat_minor": 0,
  "metadata": {
    "colab": {
      "provenance": []
    },
    "kernelspec": {
      "name": "python3",
      "display_name": "Python 3"
    },
    "language_info": {
      "name": "python"
    }
  },
  "cells": [
    {
      "cell_type": "markdown",
      "source": [
        "Importing packages\n"
      ],
      "metadata": {
        "id": "tlc5eARcDnxp"
      }
    },
    {
      "cell_type": "code",
      "source": [
        "import numpy as np\n",
        "import tensorflow\n",
        "from tensorflow.keras.models import Sequential\n",
        "from tensorflow.keras import layers\n",
        "from tensorflow.keras.layers import Dense,Flatten, Dropout\n",
        "from tensorflow.keras.layers import Conv2D,MaxPooling2D\n",
        "from keras.preprocessing.image import ImageDataGenerator"
      ],
      "metadata": {
        "id": "2OIwiTdwDnbx"
      },
      "execution_count": 1,
      "outputs": []
    },
    {
      "cell_type": "markdown",
      "source": [
        "Image Data Argumentation"
      ],
      "metadata": {
        "id": "EpZs7F7SDyuw"
      }
    },
    {
      "cell_type": "code",
      "source": [
        "train_datagen = ImageDataGenerator(rescale=1./255, shear_range=0.2, zoom_range=0.2, horizontal_flip=True)\n",
        "test_datagen = ImageDataGenerator(rescale=1./255)"
      ],
      "metadata": {
        "id": "AY8Q0WEaDnZD"
      },
      "execution_count": 2,
      "outputs": []
    },
    {
      "cell_type": "code",
      "source": [
        "from google.colab import drive\n",
        "drive.mount('/content/drive')"
      ],
      "metadata": {
        "colab": {
          "base_uri": "https://localhost:8080/"
        },
        "id": "Y0l4m4fyEaG6",
        "outputId": "bb83ed80-8486-42dd-ece2-5bc28fad7b1d"
      },
      "execution_count": 4,
      "outputs": [
        {
          "output_type": "stream",
          "name": "stdout",
          "text": [
            "Mounted at /content/drive\n"
          ]
        }
      ]
    },
    {
      "cell_type": "code",
      "source": [
        "x_train = train_datagen.flow_from_directory(r'/content/drive/MyDrive/img/train', target_size=(64, 64), batch_size=3, color_mode='grayscale', class_mode='categorical')\n",
        "x_test = test_datagen.flow_from_directory(r'/content/drive/MyDrive/img/test', target_size=(64, 64), batch_size=3, color_mode='grayscale', class_mode='categorical')"
      ],
      "metadata": {
        "colab": {
          "base_uri": "https://localhost:8080/"
        },
        "id": "-RLx5jObDnWd",
        "outputId": "8e5e1e8e-b472-41fe-9d33-c0b551f45378"
      },
      "execution_count": 5,
      "outputs": [
        {
          "output_type": "stream",
          "name": "stdout",
          "text": [
            "Found 594 images belonging to 6 classes.\n",
            "Found 30 images belonging to 6 classes.\n"
          ]
        }
      ]
    },
    {
      "cell_type": "code",
      "source": [
        "print(x_train.class_indices)"
      ],
      "metadata": {
        "colab": {
          "base_uri": "https://localhost:8080/"
        },
        "id": "rMto5FF9DnUO",
        "outputId": "c60a1c4f-6b81-4db5-8f7d-346bf008a036"
      },
      "execution_count": 6,
      "outputs": [
        {
          "output_type": "stream",
          "name": "stdout",
          "text": [
            "{'0': 0, '1': 1, '2': 2, '3': 3, '4': 4, '5': 5}\n"
          ]
        }
      ]
    },
    {
      "cell_type": "markdown",
      "source": [
        "Initializing The Model"
      ],
      "metadata": {
        "id": "nWxOwu12Eudm"
      }
    },
    {
      "cell_type": "code",
      "source": [
        "model=Sequential()"
      ],
      "metadata": {
        "id": "HsbX-lLkDnRp"
      },
      "execution_count": 7,
      "outputs": []
    },
    {
      "cell_type": "markdown",
      "source": [
        "Adding CNN Layers"
      ],
      "metadata": {
        "id": "n7Cj9Gt7Ezad"
      }
    },
    {
      "cell_type": "code",
      "source": [
        "model.add(Conv2D(32, (3, 3), input_shape=(64, 64, 1), activation='relu'))\n",
        "model.add(MaxPooling2D(pool_size=(2, 2)))\n",
        "model.add(Conv2D(32, (3, 3), activation='relu'))\n",
        "model.add(MaxPooling2D(pool_size=(2, 2)))\n",
        "model.add(Flatten())"
      ],
      "metadata": {
        "id": "7OkaxbpxDnOo"
      },
      "execution_count": 8,
      "outputs": []
    },
    {
      "cell_type": "markdown",
      "source": [
        "Adding Dense Layers"
      ],
      "metadata": {
        "id": "6Q7ssW7iE6vw"
      }
    },
    {
      "cell_type": "code",
      "source": [
        "model.add(Dense(units=512, activation='relu'))\n",
        "model.add(Dense(units=6, activation='softmax'))\n",
        "model.summary()"
      ],
      "metadata": {
        "colab": {
          "base_uri": "https://localhost:8080/"
        },
        "id": "TR2o7bs0DnKS",
        "outputId": "aa143404-4ecc-4757-ffe5-3aeb5a60c547"
      },
      "execution_count": 9,
      "outputs": [
        {
          "output_type": "stream",
          "name": "stdout",
          "text": [
            "Model: \"sequential\"\n",
            "_________________________________________________________________\n",
            " Layer (type)                Output Shape              Param #   \n",
            "=================================================================\n",
            " conv2d (Conv2D)             (None, 62, 62, 32)        320       \n",
            "                                                                 \n",
            " max_pooling2d (MaxPooling2D  (None, 31, 31, 32)       0         \n",
            " )                                                               \n",
            "                                                                 \n",
            " conv2d_1 (Conv2D)           (None, 29, 29, 32)        9248      \n",
            "                                                                 \n",
            " max_pooling2d_1 (MaxPooling  (None, 14, 14, 32)       0         \n",
            " 2D)                                                             \n",
            "                                                                 \n",
            " flatten (Flatten)           (None, 6272)              0         \n",
            "                                                                 \n",
            " dense (Dense)               (None, 512)               3211776   \n",
            "                                                                 \n",
            " dense_1 (Dense)             (None, 6)                 3078      \n",
            "                                                                 \n",
            "=================================================================\n",
            "Total params: 3,224,422\n",
            "Trainable params: 3,224,422\n",
            "Non-trainable params: 0\n",
            "_________________________________________________________________\n"
          ]
        }
      ]
    },
    {
      "cell_type": "markdown",
      "source": [
        "Configure The Learning Process"
      ],
      "metadata": {
        "id": "2Pdx3qELFAj-"
      }
    },
    {
      "cell_type": "code",
      "source": [
        "model.compile(optimizer='adam', loss='categorical_crossentropy', metrics=['accuracy'])"
      ],
      "metadata": {
        "id": "roPvHyB-DnHh"
      },
      "execution_count": 10,
      "outputs": []
    },
    {
      "cell_type": "markdown",
      "source": [
        "Train The Model"
      ],
      "metadata": {
        "id": "dISIU2YiFFst"
      }
    },
    {
      "cell_type": "code",
      "source": [
        "model.fit_generator(x_train,\n",
        "                    steps_per_epoch =594/3,\n",
        "                    epochs=25,\n",
        "                    validation_data=x_test,\n",
        "                    validation_steps=30/3)"
      ],
      "metadata": {
        "colab": {
          "base_uri": "https://localhost:8080/"
        },
        "id": "WFZpkfd9DnEi",
        "outputId": "3a719408-23f0-4c33-8713-a3406b0c66e3"
      },
      "execution_count": 11,
      "outputs": [
        {
          "output_type": "stream",
          "name": "stderr",
          "text": [
            "/usr/local/lib/python3.7/dist-packages/ipykernel_launcher.py:5: UserWarning: `Model.fit_generator` is deprecated and will be removed in a future version. Please use `Model.fit`, which supports generators.\n",
            "  \"\"\"\n"
          ]
        },
        {
          "output_type": "stream",
          "name": "stdout",
          "text": [
            "Epoch 1/25\n",
            "198/198 [==============================] - 168s 844ms/step - loss: 1.2332 - accuracy: 0.5202 - val_loss: 0.6763 - val_accuracy: 0.8000\n",
            "Epoch 2/25\n",
            "198/198 [==============================] - 13s 68ms/step - loss: 0.6262 - accuracy: 0.7660 - val_loss: 0.5563 - val_accuracy: 0.7667\n",
            "Epoch 3/25\n",
            "198/198 [==============================] - 13s 68ms/step - loss: 0.4201 - accuracy: 0.8468 - val_loss: 0.4705 - val_accuracy: 0.8333\n",
            "Epoch 4/25\n",
            "198/198 [==============================] - 13s 66ms/step - loss: 0.3177 - accuracy: 0.8771 - val_loss: 0.3531 - val_accuracy: 0.9333\n",
            "Epoch 5/25\n",
            "198/198 [==============================] - 14s 68ms/step - loss: 0.2677 - accuracy: 0.8990 - val_loss: 0.3824 - val_accuracy: 0.8333\n",
            "Epoch 6/25\n",
            "198/198 [==============================] - 15s 74ms/step - loss: 0.1945 - accuracy: 0.9293 - val_loss: 0.2815 - val_accuracy: 0.9667\n",
            "Epoch 7/25\n",
            "198/198 [==============================] - 13s 66ms/step - loss: 0.1126 - accuracy: 0.9613 - val_loss: 0.2295 - val_accuracy: 0.9667\n",
            "Epoch 8/25\n",
            "198/198 [==============================] - 15s 76ms/step - loss: 0.1033 - accuracy: 0.9596 - val_loss: 0.3244 - val_accuracy: 0.9000\n",
            "Epoch 9/25\n",
            "198/198 [==============================] - 13s 66ms/step - loss: 0.1312 - accuracy: 0.9529 - val_loss: 0.2323 - val_accuracy: 0.9667\n",
            "Epoch 10/25\n",
            "198/198 [==============================] - 13s 66ms/step - loss: 0.0529 - accuracy: 0.9781 - val_loss: 0.3159 - val_accuracy: 0.9333\n",
            "Epoch 11/25\n",
            "198/198 [==============================] - 13s 66ms/step - loss: 0.1109 - accuracy: 0.9562 - val_loss: 0.1946 - val_accuracy: 0.9667\n",
            "Epoch 12/25\n",
            "198/198 [==============================] - 13s 68ms/step - loss: 0.0396 - accuracy: 0.9865 - val_loss: 0.2539 - val_accuracy: 0.9333\n",
            "Epoch 13/25\n",
            "198/198 [==============================] - 13s 67ms/step - loss: 0.0432 - accuracy: 0.9832 - val_loss: 0.1744 - val_accuracy: 0.9667\n",
            "Epoch 14/25\n",
            "198/198 [==============================] - 13s 67ms/step - loss: 0.0646 - accuracy: 0.9764 - val_loss: 0.5269 - val_accuracy: 0.8667\n",
            "Epoch 15/25\n",
            "198/198 [==============================] - 14s 73ms/step - loss: 0.0534 - accuracy: 0.9815 - val_loss: 0.6994 - val_accuracy: 0.8000\n",
            "Epoch 16/25\n",
            "198/198 [==============================] - 13s 66ms/step - loss: 0.0958 - accuracy: 0.9680 - val_loss: 0.2587 - val_accuracy: 0.9333\n",
            "Epoch 17/25\n",
            "198/198 [==============================] - 13s 67ms/step - loss: 0.0368 - accuracy: 0.9916 - val_loss: 0.1820 - val_accuracy: 0.9333\n",
            "Epoch 18/25\n",
            "198/198 [==============================] - 13s 66ms/step - loss: 0.0287 - accuracy: 0.9882 - val_loss: 0.5170 - val_accuracy: 0.9333\n",
            "Epoch 19/25\n",
            "198/198 [==============================] - 13s 66ms/step - loss: 0.0593 - accuracy: 0.9865 - val_loss: 0.2938 - val_accuracy: 0.9333\n",
            "Epoch 20/25\n",
            "198/198 [==============================] - 13s 66ms/step - loss: 0.0566 - accuracy: 0.9747 - val_loss: 0.1920 - val_accuracy: 0.9667\n",
            "Epoch 21/25\n",
            "198/198 [==============================] - 13s 66ms/step - loss: 0.0095 - accuracy: 0.9966 - val_loss: 0.1493 - val_accuracy: 0.9667\n",
            "Epoch 22/25\n",
            "198/198 [==============================] - 13s 66ms/step - loss: 0.0225 - accuracy: 0.9933 - val_loss: 0.3537 - val_accuracy: 0.9333\n",
            "Epoch 23/25\n",
            "198/198 [==============================] - 13s 66ms/step - loss: 0.0388 - accuracy: 0.9882 - val_loss: 0.2543 - val_accuracy: 0.9667\n",
            "Epoch 24/25\n",
            "198/198 [==============================] - 13s 67ms/step - loss: 0.0191 - accuracy: 0.9966 - val_loss: 0.2537 - val_accuracy: 0.9333\n",
            "Epoch 25/25\n",
            "198/198 [==============================] - 13s 67ms/step - loss: 0.0023 - accuracy: 1.0000 - val_loss: 0.2253 - val_accuracy: 0.9667\n"
          ]
        },
        {
          "output_type": "execute_result",
          "data": {
            "text/plain": [
              "<keras.callbacks.History at 0x7fe83fdadad0>"
            ]
          },
          "metadata": {},
          "execution_count": 11
        }
      ]
    },
    {
      "cell_type": "markdown",
      "source": [
        "Save The Model"
      ],
      "metadata": {
        "id": "ly_GsOPpFWD9"
      }
    },
    {
      "cell_type": "code",
      "source": [
        "model.save('ges.h5')\n",
        "model_json = model.to_json()\n",
        "with open(\"model-bw.json\", \"w\") as json_file:\n",
        "     json_file.write(model_json)"
      ],
      "metadata": {
        "id": "1yLXxPibDnBb"
      },
      "execution_count": 12,
      "outputs": []
    },
    {
      "cell_type": "markdown",
      "source": [
        "Model Testing"
      ],
      "metadata": {
        "id": "M_aYJshnFd0l"
      }
    },
    {
      "cell_type": "code",
      "source": [
        "import numpy as np\n",
        "from tensorflow.keras.models import load_model\n",
        "from tensorflow.keras.preprocessing import image\n",
        "model = load_model(\"ges.h5\")\n",
        "img = image.load_img(r'/content/drive/MyDrive/img/test/0/2.jpg', grayscale=True, target_size=(64,64))\n",
        "x = image.img_to_array(img)\n",
        "x.shape"
      ],
      "metadata": {
        "colab": {
          "base_uri": "https://localhost:8080/"
        },
        "id": "HLaJQ-uCDm6K",
        "outputId": "223f3c35-3e72-4e8f-eca2-1401eba0c536"
      },
      "execution_count": 13,
      "outputs": [
        {
          "output_type": "stream",
          "name": "stderr",
          "text": [
            "/usr/local/lib/python3.7/dist-packages/keras/utils/image_utils.py:382: UserWarning: grayscale is deprecated. Please use color_mode = \"grayscale\"\n",
            "  warnings.warn('grayscale is deprecated. Please use '\n"
          ]
        },
        {
          "output_type": "execute_result",
          "data": {
            "text/plain": [
              "(64, 64, 1)"
            ]
          },
          "metadata": {},
          "execution_count": 13
        }
      ]
    },
    {
      "cell_type": "code",
      "source": [
        "x = np.expand_dims(x,axis=0)\n",
        "x.shape"
      ],
      "metadata": {
        "colab": {
          "base_uri": "https://localhost:8080/"
        },
        "id": "NcwNYvucF8Kj",
        "outputId": "7a47a656-dbdd-44a8-a646-3d030e89138e"
      },
      "execution_count": 14,
      "outputs": [
        {
          "output_type": "execute_result",
          "data": {
            "text/plain": [
              "(1, 64, 64, 1)"
            ]
          },
          "metadata": {},
          "execution_count": 14
        }
      ]
    },
    {
      "cell_type": "code",
      "source": [
        "pred_x = model.predict(x)\n",
        "pred_x=np.argmax(pred_x,axis=1)\n",
        "pred_x"
      ],
      "metadata": {
        "colab": {
          "base_uri": "https://localhost:8080/"
        },
        "id": "Ccmnji1TF8A7",
        "outputId": "7f6650c6-0dd7-4188-95c6-31e4bd5f70eb"
      },
      "execution_count": 15,
      "outputs": [
        {
          "output_type": "stream",
          "name": "stdout",
          "text": [
            "1/1 [==============================] - 0s 108ms/step\n"
          ]
        },
        {
          "output_type": "execute_result",
          "data": {
            "text/plain": [
              "array([0])"
            ]
          },
          "metadata": {},
          "execution_count": 15
        }
      ]
    },
    {
      "cell_type": "code",
      "source": [
        "index=['0', '1', '2', '3', '4', '5']\n",
        "result=str(index[pred_x[0]])\n",
        "result"
      ],
      "metadata": {
        "colab": {
          "base_uri": "https://localhost:8080/",
          "height": 35
        },
        "id": "N-y3CW-EDm36",
        "outputId": "5a105639-d389-46ea-c402-99f415ac4d9c"
      },
      "execution_count": 16,
      "outputs": [
        {
          "output_type": "execute_result",
          "data": {
            "text/plain": [
              "'0'"
            ],
            "application/vnd.google.colaboratory.intrinsic+json": {
              "type": "string"
            }
          },
          "metadata": {},
          "execution_count": 16
        }
      ]
    },
    {
      "cell_type": "code",
      "source": [
        "import numpy as np\n",
        "p=[]\n",
        "for i in range(0,6):\n",
        "  for j in range(0,5):\n",
        "    img = image.load_img(r\"/content/drive/MyDrive/img/test/\"+str(i)+\"/\"+str(j)+\".jpg\", grayscale=True, target_size=(64,64))\n",
        "    x = image.img_to_array(img)\n",
        "    x = np.expand_dims(x,axis=0)\n",
        "    pred = np.argmax(model.predict(x),axis=-1)\n",
        "    p.append(pred)\n",
        "print(p)"
      ],
      "metadata": {
        "colab": {
          "base_uri": "https://localhost:8080/"
        },
        "id": "vk0mQUCSGDXB",
        "outputId": "9c6f6622-d948-447e-fac9-229fc391ee96"
      },
      "execution_count": 21,
      "outputs": [
        {
          "output_type": "stream",
          "name": "stdout",
          "text": [
            "1/1 [==============================] - 0s 32ms/step\n",
            "1/1 [==============================] - 0s 26ms/step\n",
            "1/1 [==============================] - 0s 25ms/step\n",
            "1/1 [==============================] - 0s 26ms/step\n",
            "1/1 [==============================] - 0s 27ms/step\n",
            "1/1 [==============================] - 0s 27ms/step\n",
            "1/1 [==============================] - 0s 27ms/step\n",
            "1/1 [==============================] - 0s 27ms/step\n",
            "1/1 [==============================] - 0s 26ms/step\n",
            "1/1 [==============================] - 0s 26ms/step\n",
            "1/1 [==============================] - 0s 23ms/step\n",
            "1/1 [==============================] - 0s 21ms/step\n",
            "1/1 [==============================] - 0s 21ms/step\n",
            "1/1 [==============================] - 0s 29ms/step\n",
            "1/1 [==============================] - 0s 21ms/step\n",
            "1/1 [==============================] - 0s 23ms/step\n",
            "1/1 [==============================] - 0s 26ms/step\n",
            "1/1 [==============================] - 0s 22ms/step\n",
            "1/1 [==============================] - 0s 21ms/step\n",
            "1/1 [==============================] - 0s 21ms/step\n",
            "1/1 [==============================] - 0s 21ms/step\n",
            "1/1 [==============================] - 0s 26ms/step\n",
            "1/1 [==============================] - 0s 21ms/step\n",
            "1/1 [==============================] - 0s 22ms/step\n",
            "1/1 [==============================] - 0s 21ms/step\n",
            "1/1 [==============================] - 0s 26ms/step\n",
            "1/1 [==============================] - 0s 22ms/step\n",
            "1/1 [==============================] - 0s 25ms/step\n",
            "1/1 [==============================] - 0s 32ms/step\n",
            "1/1 [==============================] - 0s 21ms/step\n",
            "[array([0]), array([0]), array([0]), array([0]), array([0]), array([1]), array([1]), array([1]), array([1]), array([1]), array([2]), array([2]), array([1]), array([2]), array([2]), array([3]), array([3]), array([3]), array([3]), array([3]), array([4]), array([4]), array([4]), array([4]), array([4]), array([5]), array([5]), array([5]), array([5]), array([5])]\n"
          ]
        }
      ]
    },
    {
      "cell_type": "code",
      "source": [
        "result = []\n",
        "index=['0','1','2','3','4','5']\n",
        "for i in p:\n",
        "  result.append(index[i[0]])\n",
        "print(result)"
      ],
      "metadata": {
        "colab": {
          "base_uri": "https://localhost:8080/"
        },
        "id": "QLReJ-3xGDMB",
        "outputId": "4e9bb837-fc3a-4fe9-e285-0365d2b10c97"
      },
      "execution_count": 22,
      "outputs": [
        {
          "output_type": "stream",
          "name": "stdout",
          "text": [
            "['0', '0', '0', '0', '0', '1', '1', '1', '1', '1', '2', '2', '1', '2', '2', '3', '3', '3', '3', '3', '4', '4', '4', '4', '4', '5', '5', '5', '5', '5']\n"
          ]
        }
      ]
    }
  ]
}