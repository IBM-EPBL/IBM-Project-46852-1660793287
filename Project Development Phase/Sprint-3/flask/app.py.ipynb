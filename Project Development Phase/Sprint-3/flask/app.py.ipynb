{
  "nbformat": 4,
  "nbformat_minor": 0,
  "metadata": {
    "colab": {
      "provenance": [],
      "collapsed_sections": []
    },
    "kernelspec": {
      "name": "python3",
      "display_name": "Python 3"
    },
    "language_info": {
      "name": "python"
    }
  },
  "cells": [
    {
      "cell_type": "code",
      "source": [
        "import numpy as np\n",
        "import tensorflow\n",
        "from tensorflow.keras.models import Sequential\n",
        "from tensorflow.keras import layers\n",
        "from tensorflow.keras.layers import Dense,Flatten, Dropout\n",
        "from tensorflow.keras.layers import Conv2D,MaxPooling2D\n",
        "from keras.preprocessing.image import ImageDataGenerator"
      ],
      "metadata": {
        "id": "8pCpososxnZq"
      },
      "execution_count": 81,
      "outputs": []
    },
    {
      "cell_type": "code",
      "source": [
        "train_datagen = ImageDataGenerator(rescale=1./255, shear_range=0.2, zoom_range=0.2, horizontal_flip=True)\n",
        "test_datagen = ImageDataGenerator(rescale=1./255)"
      ],
      "metadata": {
        "id": "arlO7wZYxnXV"
      },
      "execution_count": 82,
      "outputs": []
    },
    {
      "cell_type": "code",
      "source": [
        "from google.colab import drive\n",
        "drive.mount('/content/drive')"
      ],
      "metadata": {
        "colab": {
          "base_uri": "https://localhost:8080/"
        },
        "id": "Cz5oypa2xnU6",
        "outputId": "3c933d4c-4b03-44a8-f10a-de46741b3130"
      },
      "execution_count": 83,
      "outputs": [
        {
          "output_type": "stream",
          "name": "stdout",
          "text": [
            "Drive already mounted at /content/drive; to attempt to forcibly remount, call drive.mount(\"/content/drive\", force_remount=True).\n"
          ]
        }
      ]
    },
    {
      "cell_type": "code",
      "source": [
        "x_train = train_datagen.flow_from_directory(r'/content/drive/MyDrive/img/train', target_size=(64, 64), batch_size=3, color_mode='grayscale', class_mode='categorical')\n",
        "x_test = test_datagen.flow_from_directory(r'/content/drive/MyDrive/img/test', target_size=(64, 64), batch_size=3, color_mode='grayscale', class_mode='categorical')"
      ],
      "metadata": {
        "colab": {
          "base_uri": "https://localhost:8080/"
        },
        "id": "3GfMKE7YxnSR",
        "outputId": "cb69a367-2ab3-4299-d9f8-5b1f24e47c6c"
      },
      "execution_count": 84,
      "outputs": [
        {
          "output_type": "stream",
          "name": "stdout",
          "text": [
            "Found 594 images belonging to 6 classes.\n",
            "Found 30 images belonging to 6 classes.\n"
          ]
        }
      ]
    },
    {
      "cell_type": "code",
      "source": [
        "print(x_train.class_indices)"
      ],
      "metadata": {
        "colab": {
          "base_uri": "https://localhost:8080/"
        },
        "id": "GQxlhtEHxnP5",
        "outputId": "451aaf9c-5b11-4e11-effc-9586d288c9c8"
      },
      "execution_count": 85,
      "outputs": [
        {
          "output_type": "stream",
          "name": "stdout",
          "text": [
            "{'0': 0, '1': 1, '2': 2, '3': 3, '4': 4, '5': 5}\n"
          ]
        }
      ]
    },
    {
      "cell_type": "code",
      "source": [
        "model=Sequential()"
      ],
      "metadata": {
        "id": "Ek5GrOE0xnNU"
      },
      "execution_count": 86,
      "outputs": []
    },
    {
      "cell_type": "code",
      "source": [
        "model.add(Conv2D(32, (3, 3), input_shape=(64, 64, 1), activation='relu'))\n",
        "model.add(MaxPooling2D(pool_size=(2, 2)))\n",
        "model.add(Conv2D(32, (3, 3), activation='relu'))\n",
        "model.add(MaxPooling2D(pool_size=(2, 2)))\n",
        "model.add(Flatten())"
      ],
      "metadata": {
        "id": "7XSA8BysxnK7"
      },
      "execution_count": 87,
      "outputs": []
    },
    {
      "cell_type": "code",
      "source": [
        "model.add(Dense(units=512, activation='relu'))\n",
        "model.add(Dense(units=6, activation='softmax'))\n",
        "model.summary()"
      ],
      "metadata": {
        "colab": {
          "base_uri": "https://localhost:8080/"
        },
        "id": "yWDuu9eExnIq",
        "outputId": "99b508b7-1a53-4d34-b247-17bd66bf3687"
      },
      "execution_count": 88,
      "outputs": [
        {
          "output_type": "stream",
          "name": "stdout",
          "text": [
            "Model: \"sequential_1\"\n",
            "_________________________________________________________________\n",
            " Layer (type)                Output Shape              Param #   \n",
            "=================================================================\n",
            " conv2d_2 (Conv2D)           (None, 62, 62, 32)        320       \n",
            "                                                                 \n",
            " max_pooling2d_2 (MaxPooling  (None, 31, 31, 32)       0         \n",
            " 2D)                                                             \n",
            "                                                                 \n",
            " conv2d_3 (Conv2D)           (None, 29, 29, 32)        9248      \n",
            "                                                                 \n",
            " max_pooling2d_3 (MaxPooling  (None, 14, 14, 32)       0         \n",
            " 2D)                                                             \n",
            "                                                                 \n",
            " flatten_1 (Flatten)         (None, 6272)              0         \n",
            "                                                                 \n",
            " dense_2 (Dense)             (None, 512)               3211776   \n",
            "                                                                 \n",
            " dense_3 (Dense)             (None, 6)                 3078      \n",
            "                                                                 \n",
            "=================================================================\n",
            "Total params: 3,224,422\n",
            "Trainable params: 3,224,422\n",
            "Non-trainable params: 0\n",
            "_________________________________________________________________\n"
          ]
        }
      ]
    },
    {
      "cell_type": "code",
      "source": [
        "model.compile(optimizer='adam', loss='categorical_crossentropy', metrics=['accuracy'])"
      ],
      "metadata": {
        "id": "6CBz2jD1xnGH"
      },
      "execution_count": 89,
      "outputs": []
    },
    {
      "cell_type": "code",
      "source": [
        "model.fit_generator(\n",
        "    generator=x_train, steps_per_epoch=len(x_train),\n",
        "    epochs=20, validation_data=x_test, validation_steps=len(x_test)\n",
        ")"
      ],
      "metadata": {
        "colab": {
          "base_uri": "https://localhost:8080/"
        },
        "id": "zm5rdF_uxnDo",
        "outputId": "18a4c6ee-4ff4-406c-db34-467ebd1feccf"
      },
      "execution_count": 90,
      "outputs": [
        {
          "output_type": "stream",
          "name": "stdout",
          "text": [
            "Epoch 1/20\n"
          ]
        },
        {
          "output_type": "stream",
          "name": "stderr",
          "text": [
            "/usr/local/lib/python3.7/dist-packages/ipykernel_launcher.py:3: UserWarning: `Model.fit_generator` is deprecated and will be removed in a future version. Please use `Model.fit`, which supports generators.\n",
            "  This is separate from the ipykernel package so we can avoid doing imports until\n"
          ]
        },
        {
          "output_type": "stream",
          "name": "stdout",
          "text": [
            "198/198 [==============================] - 14s 69ms/step - loss: 1.3176 - accuracy: 0.4933 - val_loss: 0.6846 - val_accuracy: 0.6667\n",
            "Epoch 2/20\n",
            "198/198 [==============================] - 13s 68ms/step - loss: 0.5931 - accuracy: 0.7727 - val_loss: 0.5165 - val_accuracy: 0.8000\n",
            "Epoch 3/20\n",
            "198/198 [==============================] - 14s 71ms/step - loss: 0.3975 - accuracy: 0.8502 - val_loss: 0.4175 - val_accuracy: 0.8333\n",
            "Epoch 4/20\n",
            "198/198 [==============================] - 13s 68ms/step - loss: 0.2846 - accuracy: 0.8939 - val_loss: 0.2699 - val_accuracy: 0.9000\n",
            "Epoch 5/20\n",
            "198/198 [==============================] - 13s 68ms/step - loss: 0.2058 - accuracy: 0.9242 - val_loss: 0.2757 - val_accuracy: 0.9333\n",
            "Epoch 6/20\n",
            "198/198 [==============================] - 13s 67ms/step - loss: 0.1634 - accuracy: 0.9310 - val_loss: 0.3208 - val_accuracy: 0.8667\n",
            "Epoch 7/20\n",
            "198/198 [==============================] - 14s 69ms/step - loss: 0.0901 - accuracy: 0.9764 - val_loss: 0.3185 - val_accuracy: 0.8333\n",
            "Epoch 8/20\n",
            "198/198 [==============================] - 15s 76ms/step - loss: 0.1013 - accuracy: 0.9646 - val_loss: 1.8272 - val_accuracy: 0.7000\n",
            "Epoch 9/20\n",
            "198/198 [==============================] - 14s 69ms/step - loss: 0.1068 - accuracy: 0.9613 - val_loss: 0.2755 - val_accuracy: 0.9667\n",
            "Epoch 10/20\n",
            "198/198 [==============================] - 13s 68ms/step - loss: 0.1105 - accuracy: 0.9680 - val_loss: 0.3303 - val_accuracy: 0.9333\n",
            "Epoch 11/20\n",
            "198/198 [==============================] - 13s 68ms/step - loss: 0.0516 - accuracy: 0.9832 - val_loss: 0.1828 - val_accuracy: 0.9667\n",
            "Epoch 12/20\n",
            "198/198 [==============================] - 14s 68ms/step - loss: 0.0736 - accuracy: 0.9646 - val_loss: 0.2918 - val_accuracy: 0.9667\n",
            "Epoch 13/20\n",
            "198/198 [==============================] - 14s 69ms/step - loss: 0.0323 - accuracy: 0.9916 - val_loss: 0.3127 - val_accuracy: 0.9333\n",
            "Epoch 14/20\n",
            "198/198 [==============================] - 13s 68ms/step - loss: 0.1132 - accuracy: 0.9663 - val_loss: 0.1996 - val_accuracy: 0.9333\n",
            "Epoch 15/20\n",
            "198/198 [==============================] - 14s 68ms/step - loss: 0.0419 - accuracy: 0.9832 - val_loss: 0.2810 - val_accuracy: 0.9000\n",
            "Epoch 16/20\n",
            "198/198 [==============================] - 14s 69ms/step - loss: 0.0360 - accuracy: 0.9798 - val_loss: 0.0806 - val_accuracy: 0.9667\n",
            "Epoch 17/20\n",
            "198/198 [==============================] - 14s 69ms/step - loss: 0.0225 - accuracy: 0.9949 - val_loss: 0.2849 - val_accuracy: 0.9333\n",
            "Epoch 18/20\n",
            "198/198 [==============================] - 14s 69ms/step - loss: 0.0534 - accuracy: 0.9882 - val_loss: 0.2640 - val_accuracy: 0.9667\n",
            "Epoch 19/20\n",
            "198/198 [==============================] - 14s 69ms/step - loss: 0.0313 - accuracy: 0.9899 - val_loss: 0.8169 - val_accuracy: 0.9000\n",
            "Epoch 20/20\n",
            "198/198 [==============================] - 14s 68ms/step - loss: 0.0643 - accuracy: 0.9781 - val_loss: 0.3202 - val_accuracy: 0.9333\n"
          ]
        },
        {
          "output_type": "execute_result",
          "data": {
            "text/plain": [
              "<keras.callbacks.History at 0x7f9f5e31ac10>"
            ]
          },
          "metadata": {},
          "execution_count": 90
        }
      ]
    },
    {
      "cell_type": "code",
      "source": [
        "model.save('ges.pkl')\n",
        "model_json = model.to_json()\n",
        "with open(\"model-bw.json\", \"w\") as json_file:\n",
        "     json_file.write(model_json)"
      ],
      "metadata": {
        "id": "QsxksdKjxnBW",
        "colab": {
          "base_uri": "https://localhost:8080/"
        },
        "outputId": "424003aa-a4b4-4a84-ee1b-5ff8b810e2f1"
      },
      "execution_count": 91,
      "outputs": [
        {
          "output_type": "stream",
          "name": "stderr",
          "text": [
            "WARNING:absl:Found untraced functions such as _jit_compiled_convolution_op, _jit_compiled_convolution_op while saving (showing 2 of 2). These functions will not be directly callable after loading.\n"
          ]
        }
      ]
    },
    {
      "cell_type": "code",
      "source": [
        "import numpy as np\n",
        "from tensorflow.keras.models import load_model\n",
        "from tensorflow.keras.preprocessing import image\n",
        "model = load_model(\"ges.pkl\")\n",
        "img = image.load_img(r'/content/drive/MyDrive/img/test/0/2.jpg', grayscale=True, target_size=(64,64))\n",
        "x = image.img_to_array(img)\n",
        "x.shape"
      ],
      "metadata": {
        "colab": {
          "base_uri": "https://localhost:8080/"
        },
        "id": "UozWiZiOxm-8",
        "outputId": "918c0880-b3a2-485e-c929-b1c60249cbf9"
      },
      "execution_count": 92,
      "outputs": [
        {
          "output_type": "stream",
          "name": "stderr",
          "text": [
            "/usr/local/lib/python3.7/dist-packages/keras/utils/image_utils.py:382: UserWarning: grayscale is deprecated. Please use color_mode = \"grayscale\"\n",
            "  warnings.warn('grayscale is deprecated. Please use '\n"
          ]
        },
        {
          "output_type": "execute_result",
          "data": {
            "text/plain": [
              "(64, 64, 1)"
            ]
          },
          "metadata": {},
          "execution_count": 92
        }
      ]
    },
    {
      "cell_type": "code",
      "source": [
        "x = np.expand_dims(x,axis=0)\n",
        "x.shape"
      ],
      "metadata": {
        "colab": {
          "base_uri": "https://localhost:8080/"
        },
        "id": "H3kE-6P0xm8k",
        "outputId": "c3e867dd-0623-4135-8941-0eb20a6b126a"
      },
      "execution_count": 93,
      "outputs": [
        {
          "output_type": "execute_result",
          "data": {
            "text/plain": [
              "(1, 64, 64, 1)"
            ]
          },
          "metadata": {},
          "execution_count": 93
        }
      ]
    },
    {
      "cell_type": "code",
      "source": [
        "pred_x = model.predict(x)\n",
        "pred_x=np.argmax(pred_x,axis=1)\n",
        "pred_x"
      ],
      "metadata": {
        "colab": {
          "base_uri": "https://localhost:8080/"
        },
        "id": "Wd57GpxZxm6f",
        "outputId": "b1417596-111a-47ba-f59b-d9aa84897233"
      },
      "execution_count": 94,
      "outputs": [
        {
          "output_type": "stream",
          "name": "stdout",
          "text": [
            "1/1 [==============================] - 0s 73ms/step\n"
          ]
        },
        {
          "output_type": "execute_result",
          "data": {
            "text/plain": [
              "array([0])"
            ]
          },
          "metadata": {},
          "execution_count": 94
        }
      ]
    },
    {
      "cell_type": "code",
      "source": [
        "index=['0', '1', '2', '3', '4', '5']\n",
        "result=str(index[pred_x[0]])\n",
        "result"
      ],
      "metadata": {
        "colab": {
          "base_uri": "https://localhost:8080/",
          "height": 36
        },
        "id": "O7U0Vb-Gxm4f",
        "outputId": "b6962b2a-06a1-48e9-96bb-240e20e967bd"
      },
      "execution_count": 96,
      "outputs": [
        {
          "output_type": "execute_result",
          "data": {
            "text/plain": [
              "'0'"
            ],
            "application/vnd.google.colaboratory.intrinsic+json": {
              "type": "string"
            }
          },
          "metadata": {},
          "execution_count": 96
        }
      ]
    },
    {
      "cell_type": "code",
      "source": [
        "import numpy as np\n",
        "p=[]\n",
        "for i in range(0,6):\n",
        "  for j in range(0,5):\n",
        "    img = image.load_img(r\"/content/drive/MyDrive/img/test/\"+str(i)+\"/\"+str(j)+\".jpg\", grayscale=True, target_size=(64,64))\n",
        "    x = image.img_to_array(img)\n",
        "    x = np.expand_dims(x,axis=0)\n",
        "    pred = np.argmax(model.predict(x),axis=-1)\n",
        "    p.append(pred)\n",
        "print(p)"
      ],
      "metadata": {
        "colab": {
          "base_uri": "https://localhost:8080/"
        },
        "id": "Oo4PF6T_xm2X",
        "outputId": "cb58d82d-212f-4b5e-c6d4-e218ccf30d1c"
      },
      "execution_count": 95,
      "outputs": [
        {
          "output_type": "stream",
          "name": "stdout",
          "text": [
            "1/1 [==============================] - 0s 22ms/step\n",
            "1/1 [==============================] - 0s 21ms/step\n",
            "1/1 [==============================] - 0s 23ms/step\n",
            "1/1 [==============================] - 0s 22ms/step\n",
            "1/1 [==============================] - 0s 21ms/step\n",
            "1/1 [==============================] - 0s 20ms/step\n",
            "1/1 [==============================] - 0s 20ms/step\n",
            "1/1 [==============================] - 0s 21ms/step\n",
            "1/1 [==============================] - 0s 20ms/step\n",
            "1/1 [==============================] - 0s 23ms/step\n",
            "1/1 [==============================] - 0s 21ms/step\n",
            "1/1 [==============================] - 0s 21ms/step\n",
            "1/1 [==============================] - 0s 20ms/step\n",
            "1/1 [==============================] - 0s 23ms/step\n",
            "1/1 [==============================] - 0s 21ms/step\n",
            "1/1 [==============================] - 0s 24ms/step\n",
            "1/1 [==============================] - 0s 21ms/step\n",
            "1/1 [==============================] - 0s 23ms/step\n",
            "1/1 [==============================] - 0s 22ms/step\n",
            "1/1 [==============================] - 0s 24ms/step\n",
            "1/1 [==============================] - 0s 21ms/step\n",
            "1/1 [==============================] - 0s 21ms/step\n",
            "1/1 [==============================] - 0s 21ms/step\n",
            "1/1 [==============================] - 0s 21ms/step\n",
            "1/1 [==============================] - 0s 22ms/step\n",
            "1/1 [==============================] - 0s 21ms/step\n",
            "1/1 [==============================] - 0s 20ms/step\n",
            "1/1 [==============================] - 0s 21ms/step\n",
            "1/1 [==============================] - 0s 32ms/step\n",
            "1/1 [==============================] - 0s 25ms/step\n",
            "[array([0]), array([0]), array([0]), array([0]), array([0]), array([1]), array([1]), array([1]), array([1]), array([1]), array([2]), array([2]), array([1]), array([2]), array([2]), array([3]), array([3]), array([3]), array([2]), array([3]), array([4]), array([4]), array([4]), array([4]), array([4]), array([5]), array([5]), array([5]), array([5]), array([5])]\n"
          ]
        }
      ]
    },
    {
      "cell_type": "code",
      "source": [
        "result = []\n",
        "index=['0','1','2','3','4','5']\n",
        "for i in p:\n",
        "  result.append(index[i[0]])\n",
        "print(result)"
      ],
      "metadata": {
        "colab": {
          "base_uri": "https://localhost:8080/"
        },
        "id": "4R9CWt4txm0Y",
        "outputId": "75283969-d96c-4e51-d220-604765c31e90"
      },
      "execution_count": 97,
      "outputs": [
        {
          "output_type": "stream",
          "name": "stdout",
          "text": [
            "['0', '0', '0', '0', '0', '1', '1', '1', '1', '1', '2', '2', '1', '2', '2', '3', '3', '3', '2', '3', '4', '4', '4', '4', '4', '5', '5', '5', '5', '5']\n"
          ]
        }
      ]
    },
    {
      "cell_type": "code",
      "source": [
        "from flask import Flask,render_template,request"
      ],
      "metadata": {
        "id": "TGyGATh-xmyL"
      },
      "execution_count": 98,
      "outputs": []
    },
    {
      "cell_type": "code",
      "source": [
        "%mkdir templates -p"
      ],
      "metadata": {
        "id": "Qs5ZfIhs4uPc"
      },
      "execution_count": 99,
      "outputs": []
    },
    {
      "cell_type": "code",
      "source": [
        "%%writefile templates/home.html\n",
        "\n",
        "\n",
        "\n",
        "<html>\n",
        "  <head>\n",
        "    <meta charset=\"utf-8\">\n",
        "    <meta name=\"viewport\" content=\"width=device-width, initial-scale=1\">\n",
        "    <link href=\"https://cdn.jsdelivr.net/npm/bootstrap@5.2.2/dist/css/bootstrap.min.css\" rel=\"stylesheet\" integrity=\"sha384-Zenh87qX5JnK2Jl0vWa8Ck2rdkQ2Bzep5IDxbcnCeuOxjzrPF/et3URy9Bv1WTRi\" crossorigin=\"anonymous\">\n",
        "    <!--link rel=\"stylesheet\" href=\"home.css\"-->\n",
        "    <style>\n",
        "      body {\n",
        "        background-image: url('https://tse2.mm.bing.net/th?id=OIP.0jyFTQx2umY6fRIB-q3FqAHaHO&pid=Api&P=0');\n",
        "        background-repeat: no-repeat;\n",
        "        background-attachment: fixed;\n",
        "        background-size: cover;\n",
        "      }\n",
        "      </style>\n",
        "    <title>\n",
        "        Gesture Recognition System\n",
        "    </title>\n",
        "</head>\n",
        "\n",
        "\n",
        "<body>\n",
        "<!--navigation bar-->\n",
        "<nav class=\"navbar navbar-expand-md navbar-light\">\n",
        "  <div class=\"container-xxl\">\n",
        "    <a href=\"{{ url_for('home')}}\" class=\"navbar-brand\">\n",
        "      <span class=\"fw-normal  text-black\">\n",
        "        Gesture System\n",
        "      </span>\n",
        "    </a>\n",
        "    <!--menu(toggle) button for mobile -->\n",
        "    <button class=\"navbar-toggler\" type=\"button\" data-bs-toggle=\"collapse\" data-bs-target=\"#main-nav\" aria-controls=\"main-nav\" aria-expanded=\"false\" aria-label=\"Toggle navigation\">\n",
        "      <span class=\"navbar-toggler-icon\"></span>\n",
        "    </button>\n",
        "    <!--navbar links-->\n",
        "    <div class=\"collapse navbar-collapse justify-content-end align-center\" id=\"main-nav\">\n",
        "      <ul class=\"navbar-nav\">\n",
        "        <li class=\"nav-item\">\n",
        "          <a href=\"{{ url_for('home')}}\" class=\"nav-link active\">Home</a>\n",
        "        </li>\n",
        "        <li class=\"nav-item\">\n",
        "          <a href=\"{{ url_for('intro')}}\" class=\"nav-link active\">Introduction</a>\n",
        "        </li>\n",
        "        <li class=\"nav-item\">\n",
        "          <a href=\"{{ url_for('image1')}}\" class=\"nav-link active\">Launch</a>\n",
        "        </li>\n",
        "      </ul>\n",
        "    </div>\n",
        "  </div>\n",
        "</nav>\n",
        "\n",
        "  <div class=\"container-lg m-3\">\n",
        "    <div class=\"row justify-content-center align-items-center\">\n",
        "      <div class=\"text-center text-md-center\">\n",
        "        <h1>\n",
        "          <div class=\"display-2 text-dark\">Hand Gesture Recognition</div>\n",
        "          <div class=\"display-5 text-dark-50\">For Sterile Browsing of Radiology Images</div>\n",
        "        </h1>\n",
        "        <div class=\"text-center d-none d-md-block m-1\">\n",
        "          <img class=\"rounded mx-auto d-block\" src=\"https://cdn1.iconfinder.com/data/icons/hand-gestures-66/48/hand-gesture-count-two-512.png\" alt=\"gesture img\">\n",
        "        </div>\n",
        "        <div class=\" my-2 text-center\">\n",
        "          <a type=\"button\" class=\"btn btn-primary btn-lg\" href=\"{{ url_for('intro')}}\">Click Here To Know More</a>  \n",
        "          <a type=\"button\" class=\"btn btn-success btn-lg\" href=\"{{ url_for('image1')}}\">Launch</a>   \n",
        "          </button>\n",
        "      </div>\n",
        "    </div>\n",
        "\n",
        "    \n",
        "\n",
        "    <script src=\"https://cdn.jsdelivr.net/npm/bootstrap@5.2.2/dist/js/bootstrap.bundle.min.js\" integrity=\"sha384-OERcA2EqjJCMA+/3y+gxIOqMEjwtxJY7qPCqsdltbNJuaOe923+mo//f6V8Qbsw3\" crossorigin=\"anonymous\"></script>\n",
        "</body>\n",
        "\n",
        "</html>"
      ],
      "metadata": {
        "colab": {
          "base_uri": "https://localhost:8080/"
        },
        "id": "jEoylae5IcA3",
        "outputId": "72e1a88e-44d0-4b2c-e695-43dba0887969"
      },
      "execution_count": 114,
      "outputs": [
        {
          "output_type": "stream",
          "name": "stdout",
          "text": [
            "Overwriting templates/home.html\n"
          ]
        }
      ]
    },
    {
      "cell_type": "code",
      "source": [
        "%%writefile templates/intro.html\n",
        "<html>\n",
        "  <head>\n",
        "    <meta charset=\"utf-8\">\n",
        "    <meta name=\"viewport\" content=\"width=device-width, initial-scale=1\">\n",
        "    <link href=\"https://cdn.jsdelivr.net/npm/bootstrap@5.2.2/dist/css/bootstrap.min.css\" rel=\"stylesheet\" integrity=\"sha384-Zenh87qX5JnK2Jl0vWa8Ck2rdkQ2Bzep5IDxbcnCeuOxjzrPF/et3URy9Bv1WTRi\" crossorigin=\"anonymous\">\n",
        "    <!--link rel=\"stylesheet\" href=\"home.css\"-->\n",
        "    <style>\n",
        "      body {\n",
        "        background-image: url('https://tse2.mm.bing.net/th?id=OIP.0jyFTQx2umY6fRIB-q3FqAHaHO&pid=Api&P=0');\n",
        "        background-repeat: no-repeat;\n",
        "        background-attachment: fixed;\n",
        "        background-size: cover;\n",
        "      }\n",
        "      </style>\n",
        "    <title>\n",
        "        Gesture Recognition \n",
        "    </title>\n",
        "</head>\n",
        "\n",
        "\n",
        "<body>\n",
        "<!--navigation bar-->\n",
        "<nav class=\"navbar navbar-expand-md navbar-light\">\n",
        "  <div class=\"container-xxl\">\n",
        "    <a href=\"{{ url_for('home')}}\" class=\"navbar-brand\">\n",
        "      <span class=\"fw-normal  text-black\">\n",
        "        Gesture System\n",
        "      </span>\n",
        "    </a>\n",
        "    <!--menu(toggle) button for mobile -->\n",
        "    <button class=\"navbar-toggler\" type=\"button\" data-bs-toggle=\"collapse\" data-bs-target=\"#main-nav\" aria-controls=\"main-nav\" aria-expanded=\"false\" aria-label=\"Toggle navigation\">\n",
        "      <span class=\"navbar-toggler-icon\"></span>\n",
        "    </button>\n",
        "    <!--navbar links-->\n",
        "    <div class=\"collapse navbar-collapse justify-content-end align-center\" id=\"main-nav\">\n",
        "      <ul class=\"navbar-nav\">\n",
        "        <li class=\"nav-item\">\n",
        "          <a href=\"{{ url_for('home')}}\" class=\"nav-link active\">Home</a>\n",
        "        </li>\n",
        "        <li class=\"nav-item\">\n",
        "          <a href=\"{{ url_for('intro')}}\" class=\"nav-link active\">Introduction</a>\n",
        "        </li>\n",
        "        <li class=\"nav-item\">\n",
        "          <a href=\"{{ url_for('image1')}}\" class=\"nav-link active\">Launch</a>\n",
        "        </li>\n",
        "      </ul>\n",
        "    </div>\n",
        "  </div>\n",
        "</nav>\n",
        "\n",
        "  <div class=\"container-lg m-3\">\n",
        "    <div class=\"row justify-content-center align-items-center\">\n",
        "      <div class=\"text-center text-md-center\">\n",
        "        <h1>\n",
        "          <div class=\"display-2 text-dark\">Hand Gesture Recognition</div>\n",
        "          <div class=\"display-4 text-dark\">About the System</div>\n",
        "          <br>\n",
        "          <small class=\"lead text-dark\">\n",
        "           <h2>Hand gestures are a form of nonverbal communication that can be used in several fields such as communication between deaf-mute people, robot control, human–computer interaction (HCI), home automation and medical applications. Research papers based on hand gestures have adopted many different techniques, including those based on instrumented sensor technology and computer vision\n",
        "            Then, we will be predicting the labels based on the CNN trained model weights of hand gestures using that predicted labels we apply if conditions  to control some of the actions like reshaping , blur, flip of the given image.\n",
        "          </h2> </small>\n",
        "        </h1>\n",
        "        <div class=\"text-center d-none d-md-block m-1\">\n",
        "          <img class=\"rounded mx-auto d-block\" src=\"https://media.tenor.com/GwMnZWwxip0AAAAC/hand-finger-counting.gif\" alt=\"gesture img\">\n",
        "        </div>\n",
        "        <div class=\" my-2 text-center\">\n",
        "          <a type=\"button\" class=\"btn btn-primary btn-lg\" href=\"{{ url_for('intro')}}\">Click Here To Know More</a>  \n",
        "          <a type=\"button\" class=\"btn btn-success btn-lg\" href=\"{{ url_for('image1')}}\">Launch</a>   \n",
        "          </button>\n",
        "      </div>\n",
        "    </div>\n",
        "\n",
        "    \n",
        "\n",
        "    <script src=\"https://cdn.jsdelivr.net/npm/bootstrap@5.2.2/dist/js/bootstrap.bundle.min.js\" integrity=\"sha384-OERcA2EqjJCMA+/3y+gxIOqMEjwtxJY7qPCqsdltbNJuaOe923+mo//f6V8Qbsw3\" crossorigin=\"anonymous\"></script>\n",
        "</body>\n",
        "\n",
        "</html>"
      ],
      "metadata": {
        "colab": {
          "base_uri": "https://localhost:8080/"
        },
        "id": "UzXtzrPnBGrU",
        "outputId": "3182e74c-1a13-4f7a-8240-b7af2e35d502"
      },
      "execution_count": 101,
      "outputs": [
        {
          "output_type": "stream",
          "name": "stdout",
          "text": [
            "Overwriting templates/intro.html\n"
          ]
        }
      ]
    },
    {
      "cell_type": "code",
      "source": [
        "%%writefile templates/launch.html\n",
        "<html lang=\"en\">\n",
        "\n",
        "  <head>\n",
        "  <meta charset=\"utf-8\">\n",
        "      <meta http-equiv=\"X-UA-Compatible\" content=\"IE=edge\">\n",
        "      <meta name=\"viewport\" content=\"width=device-width, initial-scale=0.6\">\n",
        "      <script src=\"https://ajax.googleapis.com/ajax/libs/jquery/3.3.1/jquery.min.js\"></script>\n",
        "      <link href=\"https://fonts.googleapis.com/icon?family=Material+Icons\" rel=\"stylesheet\">\n",
        "      <meta charset=\"UTF-8\">\n",
        "      <title>Predict</title>\n",
        "      <link href=\"https://cdn.bootcss.com/bootstrap/4.0.0/css/bootstrap.min.css\" rel=\"stylesheet\">\n",
        "   \n",
        "      \n",
        "      <link href=\"{{ url_for('static', filename='css/main.css') }}\" rel=\"stylesheet\">           \n",
        "      <style>\n",
        "        body {\n",
        "          background-image: url('https://media.npr.org/assets/img/2018/08/16/gettyimages-507850475_wide-e729499092c4106cff752cea8a2c49623c1595d3.jpg?s=1400');\n",
        "          background-repeat: no-repeat;\n",
        "          background-attachment: fixed;\n",
        "          background-size: cover;\n",
        "        }\n",
        "        </style>\n",
        "  </head>\n",
        "  \n",
        "  <body>\n",
        "  <!--navigation bar-->\n",
        "    <nav class=\"navbar navbar-expand-md navbar-light\">\n",
        "  <div class=\"container-xxl\">\n",
        "    <a href=\"{{ url_for('home')}}\" class=\"navbar-brand\">\n",
        "      <span class=\"fw-normal  text-black\">\n",
        "        Gesture Recognition System\n",
        "      </span>\n",
        "    </a>\n",
        "    <!--menu(toggle) button for mobile -->\n",
        "    <button class=\"navbar-toggler\" type=\"button\" data-bs-toggle=\"collapse\" data-bs-target=\"#main-nav\" aria-controls=\"main-nav\" aria-expanded=\"false\" aria-label=\"Toggle navigation\">\n",
        "      <span class=\"navbar-toggler-icon\"></span>\n",
        "    </button>\n",
        "    <!--navbar links-->\n",
        "    <div class=\"collapse navbar-collapse justify-content-end align-center\" id=\"main-nav\">\n",
        "      <ul class=\"navbar-nav\">\n",
        "        <li class=\"nav-item\">\n",
        "          <a href=\"{{ url_for('home')}}\" class=\"nav-link active\">Home</a>\n",
        "        </li>\n",
        "        <li class=\"nav-item\">\n",
        "          <a href=\"{{ url_for('intro')}}\" class=\"nav-link active\">Introduction</a>\n",
        "        </li>\n",
        "        <li class=\"nav-item\">\n",
        "          <a href=\"{{ url_for('image1')}}\" class=\"nav-link active\">Launch</a>\n",
        "        </li>\n",
        "      </ul>\n",
        "    </div>\n",
        "  </div>\n",
        "    </nav>\n",
        "    <br>\n",
        "    \n",
        "    <div1 style=\"text-align: center;\"><h1><font color=\"Black\" size=\"6\" font-family=\"Roboto\">Hand Gesture Recognition</h1><br>\n",
        "    <p><i><font color=\"Black\" size=\"4\" font-family=\"sans-serif\"></i>Provide an image for which you want to perform various operations</p>\n",
        "    <br>\n",
        "          <div>\n",
        "            <h4>Upload Image Here</h4>\n",
        "        <form action = \"http://localhost:5000/\" id=\"upload-file\" method=\"post\" enctype=\"multipart/form-data\">\n",
        "          <label for=\"imageUpload\" class=\"upload-label\">\n",
        "            Choose...\n",
        "          </label>\n",
        "          <input type=\"file\" name=\"image\" id=\"imageUpload\" accept=\".png, .jpg, .jpeg,.pdf\">\n",
        "        </form>\n",
        "              <center>\n",
        "        <div class=\"image-section\" style=\"display:none;\">\n",
        "          <div class=\"img-preview\">\n",
        "            <div id=\"imagePreview\">\n",
        "            </div>\n",
        "          </div>\n",
        "          <div>\n",
        "            <button type=\"button\" class=\"btn btn-info btn-lg \" id=\"btn-predict\">Predict!</button>\n",
        "          </div>\n",
        "        </div>\n",
        "        <div class=\"loader\" style=\"display:none;\"></div>\n",
        "              </center>\n",
        "      </div>\n",
        "      </div1>\n",
        "         \n",
        "          <footer>\n",
        "      <script src=\"{{ url_for('static', filename='js/main.js') }}\" type=\"text/javascript\"></script>    \n",
        "  </footer>\n",
        "          \n",
        "  </html>    \n",
        "  "
      ],
      "metadata": {
        "colab": {
          "base_uri": "https://localhost:8080/"
        },
        "id": "kLpgse8eHhbt",
        "outputId": "67d2d922-fb6e-4f9f-bdfd-6a5422ca25dd"
      },
      "execution_count": 102,
      "outputs": [
        {
          "output_type": "stream",
          "name": "stdout",
          "text": [
            "Overwriting templates/launch.html\n"
          ]
        }
      ]
    },
    {
      "cell_type": "code",
      "source": [
        "!pip3 install SimpleITK"
      ],
      "metadata": {
        "colab": {
          "base_uri": "https://localhost:8080/"
        },
        "id": "qoAeBS_-xmwF",
        "outputId": "841e7b8c-3d72-4cda-a8a7-3269d94a4c6f"
      },
      "execution_count": 68,
      "outputs": [
        {
          "output_type": "stream",
          "name": "stdout",
          "text": [
            "Looking in indexes: https://pypi.org/simple, https://us-python.pkg.dev/colab-wheels/public/simple/\n",
            "Requirement already satisfied: SimpleITK in /usr/local/lib/python3.7/dist-packages (2.2.0)\n"
          ]
        }
      ]
    },
    {
      "cell_type": "code",
      "source": [
        "!pip install flask-ngrok"
      ],
      "metadata": {
        "colab": {
          "base_uri": "https://localhost:8080/"
        },
        "id": "BSpUMZwzxmuE",
        "outputId": "8ede3ac1-9566-47f2-e6cd-ab857facc646"
      },
      "execution_count": 103,
      "outputs": [
        {
          "output_type": "stream",
          "name": "stdout",
          "text": [
            "Looking in indexes: https://pypi.org/simple, https://us-python.pkg.dev/colab-wheels/public/simple/\n",
            "Requirement already satisfied: flask-ngrok in /usr/local/lib/python3.7/dist-packages (0.0.25)\n",
            "Requirement already satisfied: Flask>=0.8 in /usr/local/lib/python3.7/dist-packages (from flask-ngrok) (1.1.4)\n",
            "Requirement already satisfied: requests in /usr/local/lib/python3.7/dist-packages (from flask-ngrok) (2.23.0)\n",
            "Requirement already satisfied: Jinja2<3.0,>=2.10.1 in /usr/local/lib/python3.7/dist-packages (from Flask>=0.8->flask-ngrok) (2.11.3)\n",
            "Requirement already satisfied: itsdangerous<2.0,>=0.24 in /usr/local/lib/python3.7/dist-packages (from Flask>=0.8->flask-ngrok) (1.1.0)\n",
            "Requirement already satisfied: click<8.0,>=5.1 in /usr/local/lib/python3.7/dist-packages (from Flask>=0.8->flask-ngrok) (7.1.2)\n",
            "Requirement already satisfied: Werkzeug<2.0,>=0.15 in /usr/local/lib/python3.7/dist-packages (from Flask>=0.8->flask-ngrok) (1.0.1)\n",
            "Requirement already satisfied: MarkupSafe>=0.23 in /usr/local/lib/python3.7/dist-packages (from Jinja2<3.0,>=2.10.1->Flask>=0.8->flask-ngrok) (2.0.1)\n",
            "Requirement already satisfied: idna<3,>=2.5 in /usr/local/lib/python3.7/dist-packages (from requests->flask-ngrok) (2.10)\n",
            "Requirement already satisfied: urllib3!=1.25.0,!=1.25.1,<1.26,>=1.21.1 in /usr/local/lib/python3.7/dist-packages (from requests->flask-ngrok) (1.24.3)\n",
            "Requirement already satisfied: chardet<4,>=3.0.2 in /usr/local/lib/python3.7/dist-packages (from requests->flask-ngrok) (3.0.4)\n",
            "Requirement already satisfied: certifi>=2017.4.17 in /usr/local/lib/python3.7/dist-packages (from requests->flask-ngrok) (2022.9.24)\n"
          ]
        }
      ]
    },
    {
      "cell_type": "code",
      "source": [
        "from flask_ngrok import run_with_ngrok"
      ],
      "metadata": {
        "id": "AbzrspfFhWOQ"
      },
      "execution_count": 116,
      "outputs": []
    },
    {
      "cell_type": "code",
      "source": [
        "from __future__ import print_function\n",
        "\n",
        "import SimpleITK as sitk\n",
        "import sys\n",
        "import os"
      ],
      "metadata": {
        "id": "3TMNFm-Lxmri"
      },
      "execution_count": 117,
      "outputs": []
    },
    {
      "cell_type": "code",
      "source": [
        "import operator\n",
        "import cv2 # opencv library\n",
        "import matplotlib.pyplot as plt\n",
        "import matplotlib.image as mpimg\n",
        "import numpy as np"
      ],
      "metadata": {
        "id": "eXPvoY-my_HO"
      },
      "execution_count": 118,
      "outputs": []
    },
    {
      "cell_type": "code",
      "source": [
        "from tensorflow.keras.models import load_model#to load our trained model\n",
        "import os\n",
        "from werkzeug.utils import secure_filename"
      ],
      "metadata": {
        "id": "69DRd1nny_E2"
      },
      "execution_count": 119,
      "outputs": []
    },
    {
      "cell_type": "code",
      "source": [
        "pip install pyngrok"
      ],
      "metadata": {
        "colab": {
          "base_uri": "https://localhost:8080/"
        },
        "id": "0tbf7pxj9yuK",
        "outputId": "7cd0df99-458e-4fa8-a2eb-cbd079d83e41"
      },
      "execution_count": 120,
      "outputs": [
        {
          "output_type": "stream",
          "name": "stdout",
          "text": [
            "Looking in indexes: https://pypi.org/simple, https://us-python.pkg.dev/colab-wheels/public/simple/\n",
            "Requirement already satisfied: pyngrok in /usr/local/lib/python3.7/dist-packages (5.1.0)\n",
            "Requirement already satisfied: PyYAML in /usr/local/lib/python3.7/dist-packages (from pyngrok) (6.0)\n"
          ]
        }
      ]
    },
    {
      "cell_type": "code",
      "source": [
        "from pyngrok import ngrok"
      ],
      "metadata": {
        "id": "5dCh41S29laq"
      },
      "execution_count": 121,
      "outputs": []
    },
    {
      "cell_type": "code",
      "source": [
        "app = Flask(__name__,template_folder=\"templates\")\n",
        "app = Flask('  ')\n",
        "run_with_ngrok(app)"
      ],
      "metadata": {
        "id": "EY7i8VZFy_DA"
      },
      "execution_count": 122,
      "outputs": []
    },
    {
      "cell_type": "code",
      "source": [
        "port=5000\n",
        "ngrok.set_auth_token('2HXrgO3lSMBp30J01GCjcFXlMaZ_6BToXQgLussvaeKTkKMFu')"
      ],
      "metadata": {
        "id": "kT0RNeSp8q0v"
      },
      "execution_count": 123,
      "outputs": []
    },
    {
      "cell_type": "code",
      "source": [
        "from flask import Flask,render_template,request\n",
        "# Flask-It is our framework which we are going to use to run/serve our application.\n",
        "#request-for accessing file which was uploaded by the user on our application.\n",
        "import operator\n",
        "import cv2 # opencv library\n",
        "import matplotlib.pyplot as plt\n",
        "import matplotlib.image as mpimg\n",
        "import numpy as np\n",
        "from tensorflow.keras.models import load_model#to load our trained model\n",
        "import os\n",
        "from werkzeug.utils import secure_filename\n",
        "\n",
        "\n"
      ],
      "metadata": {
        "id": "onKTjnvjzGZT"
      },
      "execution_count": 124,
      "outputs": []
    },
    {
      "cell_type": "code",
      "source": [
        "model=load_model('ges.pkl')\n",
        "print(\"Loaded model from disk\")"
      ],
      "metadata": {
        "colab": {
          "base_uri": "https://localhost:8080/"
        },
        "id": "_ZstZQRlvfgJ",
        "outputId": "79dfc850-40c7-481a-c4ea-5b9288b2b397"
      },
      "execution_count": 125,
      "outputs": [
        {
          "output_type": "stream",
          "name": "stdout",
          "text": [
            "Loaded model from disk\n"
          ]
        }
      ]
    },
    {
      "cell_type": "code",
      "source": [
        "@app.route('/')# route to display the home page\n",
        "def home():\n",
        "    return render_template('home.html')#rendering the home page\n",
        "\n",
        "\n",
        "@app.route('/intro') # routes to the intro page\n",
        "def intro():\n",
        "    return render_template('intro.html')#rendering the intro page\n",
        "\n",
        "@app.route('/image1',methods=['GET','POST'])# routes to the index html\n",
        "def image1():\n",
        "    return render_template(\"launch.html\")\n",
        "\n",
        "\n",
        "@app.route('/predict',methods=['GET', 'POST'])# route to show the predictions in a web UI\n",
        "def launch():\n",
        "    if request.method == 'POST':\n",
        "        print(\"inside image\")\n",
        "        f = request.files['image']\n",
        "        basepath = os.path.dirname(__file__)\n",
        "        file_path = os.path.join(basepath, 'uploads', secure_filename(f.filename))\n",
        "        f.save(file_path)   \n",
        "        print(file_path)\n",
        "        cap = cv2.VideoCapture(0)\n",
        "        while True:\n",
        "            _, frame = cap.read() #capturing the video frame values\n",
        "            # Simulating mirror image\n",
        "            frame = cv2.flip(frame, 1) \n",
        "            # Got this from collect-data.py\n",
        "            # Coordinates of the ROI\n",
        "            x1 = int(0.5*frame.shape[1]) \n",
        "            y1 = 10\n",
        "            x2 = frame.shape[1]-10\n",
        "            y2 = int(0.5*frame.shape[1])\n",
        "            # Drawing the ROI\n",
        "            # The increment/decrement by 1 is to compensate for the bounding box\n",
        "            cv2.rectangle(frame, (x1-1, y1-1), (x2+1, y2+1), (255,0,0) ,1)\n",
        "            # Extracting the ROI\n",
        "            roi = frame[y1:y2, x1:x2]\n",
        "            \n",
        "            # Resizing the ROI so it can be fed to the model for prediction\n",
        "            roi = cv2.resize(roi, (64, 64)) \n",
        "            roi = cv2.cvtColor(roi, cv2.COLOR_BGR2GRAY)\n",
        "            _, test_image = cv2.threshold(roi, 120, 255, cv2.THRESH_BINARY)\n",
        "            cv2.imshow(\"test\", test_image)\n",
        "            # Batch of 1\n",
        "            result = model.predict(test_image.reshape(1, 64, 64, 1))\n",
        "            prediction = {'ZERO': result[0][0], \n",
        "                          'ONE': result[0][1], \n",
        "                          'TWO': result[0][2],\n",
        "                          'THREE': result[0][3],\n",
        "                          'FOUR': result[0][4],\n",
        "                          'FIVE': result[0][5]}\n",
        "            # Sorting based on top prediction\n",
        "            prediction = sorted(prediction.items(), key=operator.itemgetter(1), reverse=True)\n",
        "            \n",
        "            # Displaying the predictions\n",
        "            cv2.putText(frame, prediction[0][0], (10, 120), cv2.FONT_HERSHEY_PLAIN, 1, (0,255,255), 1)    \n",
        "            cv2.imshow(\"Frame\", frame)\n",
        "            \n",
        "            #loading an image\n",
        "            image1=cv2.imread(file_path)\n",
        "            if prediction[0][0]=='ONE':\n",
        "                resized = cv2.resize(image1, (200, 200))\n",
        "                cv2.imshow(\"Fixed Resizing\", resized)\n",
        "                key=cv2.waitKey(3000)\n",
        "                if (key & 0xFF) == ord(\"1\"):\n",
        "                    cv2.destroyWindow(\"Fixed Resizing\")\n",
        "            \n",
        "            elif prediction[0][0]=='ZERO':\n",
        "                cv2.rectangle(image1, (480, 170), (650, 420), (0, 0, 255), 2)\n",
        "                cv2.imshow(\"Rectangle\", image1)\n",
        "                cv2.waitKey(0)\n",
        "                key=cv2.waitKey(3000)\n",
        "                if (key & 0xFF) == ord(\"0\"):\n",
        "                    cv2.destroyWindow(\"Rectangle\")\n",
        "                \n",
        "            elif prediction[0][0]=='TWO':\n",
        "                (h, w, d) = image1.shape\n",
        "                center = (w // 2, h // 2)\n",
        "                M = cv2.getRotationMatrix2D(center, -45, 1.0)\n",
        "                rotated = cv2.warpAffine(image1, M, (w, h))\n",
        "                cv2.imshow(\"OpenCV Rotation\", rotated)\n",
        "                key=cv2.waitKey(3000)\n",
        "                if (key & 0xFF) == ord(\"2\"):\n",
        "                    cv2.destroyWindow(\"OpenCV Rotation\")\n",
        "                \n",
        "            elif prediction[0][0]=='THREE':\n",
        "                blurred = cv2.GaussianBlur(image1, (21, 21), 0)\n",
        "                cv2.imshow(\"Blurred\", blurred)\n",
        "                key=cv2.waitKey(3000)\n",
        "                if (key & 0xFF) == ord(\"3\"):\n",
        "                    cv2.destroyWindow(\"Blurred\")\n",
        "\n",
        "            elif prediction[0][0]=='FOUR':\n",
        "                resized = cv2.resize(image1, (400, 400))\n",
        "                cv2.imshow(\"Fixed Resizing\", resized)\n",
        "                key=cv2.waitKey(3000)\n",
        "                if (key & 0xFF) == ord(\"4\"):\n",
        "                    cv2.destroyWindow(\"Fixed Resizing\")\n",
        "\n",
        "            elif prediction[0][0]=='FIVE':\n",
        "                '''(h, w, d) = image1.shape\n",
        "                center = (w // 2, h // 2)\n",
        "                M = cv2.getRotationMatrix2D(center, 45, 1.0)\n",
        "                rotated = cv2.warpAffine(image1, M, (w, h))'''\n",
        "                gray = cv2.cvtColor(image1, cv2.COLOR_RGB2GRAY)\n",
        "                cv2.imshow(\"OpenCV Gray Scale\", gray)\n",
        "                key=cv2.waitKey(3000)\n",
        "                if (key & 0xFF) == ord(\"5\"):\n",
        "                    cv2.destroyWindow(\"OpenCV Gray Scale\")\n",
        "\n",
        "            else:\n",
        "                continue\n",
        "            \n",
        "            \n",
        "            interrupt = cv2.waitKey(10)\n",
        "            if interrupt & 0xFF == 27: # esc key\n",
        "                break\n",
        "                \n",
        "         \n",
        "        cap.release()\n",
        "        cv2.destroyAllWindows()\n",
        "    return render_template(\"home.html\")\n",
        "     \n",
        "if __name__ == \"__main__\":\n",
        "   # running the app\n",
        "    app.run()"
      ],
      "metadata": {
        "colab": {
          "base_uri": "https://localhost:8080/"
        },
        "id": "BpsadzIVzGVH",
        "outputId": "695b6bc1-d8e0-4587-cce2-a8f2f03fbc06"
      },
      "execution_count": null,
      "outputs": [
        {
          "output_type": "stream",
          "name": "stdout",
          "text": [
            " * Serving Flask app \"  \" (lazy loading)\n",
            " * Environment: production\n",
            "\u001b[31m   WARNING: This is a development server. Do not use it in a production deployment.\u001b[0m\n",
            "\u001b[2m   Use a production WSGI server instead.\u001b[0m\n",
            " * Debug mode: off\n"
          ]
        },
        {
          "output_type": "stream",
          "name": "stderr",
          "text": [
            "INFO:werkzeug: * Running on http://127.0.0.1:5000/ (Press CTRL+C to quit)\n"
          ]
        },
        {
          "output_type": "stream",
          "name": "stdout",
          "text": [
            " * Running on http://323d-35-237-245-185.ngrok.io\n",
            " * Traffic stats available on http://127.0.0.1:4040\n"
          ]
        },
        {
          "output_type": "stream",
          "name": "stderr",
          "text": [
            "INFO:werkzeug:127.0.0.1 - - [14/Nov/2022 17:28:08] \"\u001b[37mGET / HTTP/1.1\u001b[0m\" 200 -\n",
            "INFO:werkzeug:127.0.0.1 - - [14/Nov/2022 17:28:09] \"\u001b[33mGET /favicon.ico HTTP/1.1\u001b[0m\" 404 -\n",
            "INFO:werkzeug:127.0.0.1 - - [14/Nov/2022 17:28:16] \"\u001b[37mGET /intro HTTP/1.1\u001b[0m\" 200 -\n"
          ]
        }
      ]
    },
    {
      "cell_type": "code",
      "source": [],
      "metadata": {
        "id": "FQrYu2g2zGS6"
      },
      "execution_count": null,
      "outputs": []
    }
  ]
}